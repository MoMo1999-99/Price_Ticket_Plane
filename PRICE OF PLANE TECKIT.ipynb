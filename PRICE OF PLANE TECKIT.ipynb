{
 "cells": [
  {
   "cell_type": "markdown",
   "id": "014daf40",
   "metadata": {},
   "source": [
    "### importing libraries"
   ]
  },
  {
   "cell_type": "code",
   "execution_count": 1,
   "id": "90d83863",
   "metadata": {},
   "outputs": [],
   "source": [
    "import pandas as pd\n",
    "import warnings\n",
    "warnings.filterwarnings('ignore')\n",
    "import plotly.express as px\n",
    "import numpy as np\n",
    "import seaborn as sns\n",
    "import pandas as pd\n",
    "import matplotlib.pyplot as plt\n",
    "from datasist.structdata import detect_outliers\n",
    "from sklearn.preprocessing import LabelEncoder\n",
    "from sklearn.preprocessing import StandardScaler\n",
    "from sklearn.model_selection import train_test_split\n",
    "from sklearn.linear_model import LinearRegression \n",
    "from sklearn.neighbors import KNeighborsRegressor\n",
    "from sklearn.tree import DecisionTreeRegressor\n",
    "from sklearn.svm import SVR\n",
    "from sklearn.ensemble import RandomForestRegressor\n",
    "from xgboost import XGBRegressor\n",
    "from sklearn.metrics import mean_squared_error, mean_absolute_error, r2_score\n",
    "from sklearn.model_selection import GridSearchCV, RandomizedSearchCV\n",
    "import joblib\n",
    "\n",
    "from geopy.geocoders import Nominatim\n",
    "from geopy import distance\n",
    "from geopy.distance import great_circle"
   ]
  },
  {
   "cell_type": "markdown",
   "id": "f7366e07",
   "metadata": {},
   "source": [
    "### loading data "
   ]
  },
  {
   "cell_type": "code",
   "execution_count": 2,
   "id": "ff71778f",
   "metadata": {},
   "outputs": [
    {
     "data": {
      "text/html": [
       "<div>\n",
       "<style scoped>\n",
       "    .dataframe tbody tr th:only-of-type {\n",
       "        vertical-align: middle;\n",
       "    }\n",
       "\n",
       "    .dataframe tbody tr th {\n",
       "        vertical-align: top;\n",
       "    }\n",
       "\n",
       "    .dataframe thead th {\n",
       "        text-align: right;\n",
       "    }\n",
       "</style>\n",
       "<table border=\"1\" class=\"dataframe\">\n",
       "  <thead>\n",
       "    <tr style=\"text-align: right;\">\n",
       "      <th></th>\n",
       "      <th>Airline</th>\n",
       "      <th>Date_of_Journey</th>\n",
       "      <th>Source</th>\n",
       "      <th>Destination</th>\n",
       "      <th>Route</th>\n",
       "      <th>Dep_Time</th>\n",
       "      <th>Arrival_Time</th>\n",
       "      <th>Duration</th>\n",
       "      <th>Total_Stops</th>\n",
       "      <th>Additional_Info</th>\n",
       "      <th>Price</th>\n",
       "    </tr>\n",
       "  </thead>\n",
       "  <tbody>\n",
       "    <tr>\n",
       "      <th>0</th>\n",
       "      <td>IndiGo</td>\n",
       "      <td>24/03/2019</td>\n",
       "      <td>Banglore</td>\n",
       "      <td>New Delhi</td>\n",
       "      <td>BLR → DEL</td>\n",
       "      <td>22:20</td>\n",
       "      <td>01:10 22 Mar</td>\n",
       "      <td>2h 50m</td>\n",
       "      <td>non-stop</td>\n",
       "      <td>No info</td>\n",
       "      <td>3897</td>\n",
       "    </tr>\n",
       "    <tr>\n",
       "      <th>1</th>\n",
       "      <td>Air India</td>\n",
       "      <td>1/05/2019</td>\n",
       "      <td>Kolkata</td>\n",
       "      <td>Banglore</td>\n",
       "      <td>CCU → IXR → BBI → BLR</td>\n",
       "      <td>05:50</td>\n",
       "      <td>13:15</td>\n",
       "      <td>7h 25m</td>\n",
       "      <td>2 stops</td>\n",
       "      <td>No info</td>\n",
       "      <td>7662</td>\n",
       "    </tr>\n",
       "    <tr>\n",
       "      <th>2</th>\n",
       "      <td>Jet Airways</td>\n",
       "      <td>9/06/2019</td>\n",
       "      <td>Delhi</td>\n",
       "      <td>Cochin</td>\n",
       "      <td>DEL → LKO → BOM → COK</td>\n",
       "      <td>09:25</td>\n",
       "      <td>04:25 10 Jun</td>\n",
       "      <td>19h</td>\n",
       "      <td>2 stops</td>\n",
       "      <td>No info</td>\n",
       "      <td>13882</td>\n",
       "    </tr>\n",
       "  </tbody>\n",
       "</table>\n",
       "</div>"
      ],
      "text/plain": [
       "       Airline Date_of_Journey    Source Destination                  Route  \\\n",
       "0       IndiGo      24/03/2019  Banglore   New Delhi              BLR → DEL   \n",
       "1    Air India       1/05/2019   Kolkata    Banglore  CCU → IXR → BBI → BLR   \n",
       "2  Jet Airways       9/06/2019     Delhi      Cochin  DEL → LKO → BOM → COK   \n",
       "\n",
       "  Dep_Time  Arrival_Time Duration Total_Stops Additional_Info  Price  \n",
       "0    22:20  01:10 22 Mar   2h 50m    non-stop         No info   3897  \n",
       "1    05:50         13:15   7h 25m     2 stops         No info   7662  \n",
       "2    09:25  04:25 10 Jun      19h     2 stops         No info  13882  "
      ]
     },
     "execution_count": 2,
     "metadata": {},
     "output_type": "execute_result"
    }
   ],
   "source": [
    "df = pd.read_excel('Data_Train.xlsx')\n",
    "df.head(3)"
   ]
  },
  {
   "cell_type": "markdown",
   "id": "98e50e6b",
   "metadata": {},
   "source": [
    "\n",
    "### Preprocessing"
   ]
  },
  {
   "cell_type": "code",
   "execution_count": 3,
   "id": "ebdd14eb",
   "metadata": {},
   "outputs": [],
   "source": [
    "### concatenate  Date_of_Journey & Dep_Time\n",
    "df['Date_of_Journey'] = df['Date_of_Journey'] + \" \" + df['Dep_Time']\n",
    "df.drop('Dep_Time', axis=1 , inplace=True)"
   ]
  },
  {
   "cell_type": "code",
   "execution_count": 4,
   "id": "2f969119",
   "metadata": {},
   "outputs": [],
   "source": [
    "### Convert dtype to datetime64\n",
    "df['Date_of_Journey'] = pd.to_datetime(df['Date_of_Journey'], format='%d/%m/%Y %H:%M', errors='coerce')"
   ]
  },
  {
   "cell_type": "code",
   "execution_count": 5,
   "id": "5bd0736a",
   "metadata": {},
   "outputs": [],
   "source": [
    "### makeing function to clean columns \n",
    "def extract_H_of_Arrival(x):\n",
    "    return x[:5]\n",
    "\n",
    "def GetArrivalDay(n,Category) : \n",
    "    if len(n.split()) == 1 : \n",
    "        return 'none'\n",
    "    else : \n",
    "        if Category == 'D' : \n",
    "            return n.split()[1]\n",
    "        else : \n",
    "            return n.split()[2]\n",
    "\n",
    "\n",
    "df['Hour_of_Ariving'] = df['Arrival_Time'].apply(extract_H_of_Arrival)\n",
    "df['day_of_Ariving'] =  df['Arrival_Time'].apply(lambda x : GetArrivalDay(x,'D'))\n",
    "df['Month_of_Ariving'] =  df['Arrival_Time'].apply(lambda x : GetArrivalDay(x,'M'))\n",
    "\n",
    "df.drop(['Arrival_Time'] , axis=1 , inplace=True)"
   ]
  },
  {
   "cell_type": "code",
   "execution_count": 6,
   "id": "43e27203",
   "metadata": {
    "scrolled": true
   },
   "outputs": [
    {
     "data": {
      "text/html": [
       "<div>\n",
       "<style scoped>\n",
       "    .dataframe tbody tr th:only-of-type {\n",
       "        vertical-align: middle;\n",
       "    }\n",
       "\n",
       "    .dataframe tbody tr th {\n",
       "        vertical-align: top;\n",
       "    }\n",
       "\n",
       "    .dataframe thead th {\n",
       "        text-align: right;\n",
       "    }\n",
       "</style>\n",
       "<table border=\"1\" class=\"dataframe\">\n",
       "  <thead>\n",
       "    <tr style=\"text-align: right;\">\n",
       "      <th></th>\n",
       "      <th>Airline</th>\n",
       "      <th>Date_of_Journey</th>\n",
       "      <th>Source</th>\n",
       "      <th>Destination</th>\n",
       "      <th>Route</th>\n",
       "      <th>Duration</th>\n",
       "      <th>Total_Stops</th>\n",
       "      <th>Additional_Info</th>\n",
       "      <th>Price</th>\n",
       "      <th>Hour_of_Ariving</th>\n",
       "      <th>day_of_Ariving</th>\n",
       "      <th>Month_of_Ariving</th>\n",
       "    </tr>\n",
       "  </thead>\n",
       "  <tbody>\n",
       "    <tr>\n",
       "      <th>0</th>\n",
       "      <td>IndiGo</td>\n",
       "      <td>2019-03-24 22:20:00</td>\n",
       "      <td>Banglore</td>\n",
       "      <td>New Delhi</td>\n",
       "      <td>BLR → DEL</td>\n",
       "      <td>2h 50m</td>\n",
       "      <td>non-stop</td>\n",
       "      <td>No info</td>\n",
       "      <td>3897</td>\n",
       "      <td>01:10</td>\n",
       "      <td>22</td>\n",
       "      <td>Mar</td>\n",
       "    </tr>\n",
       "    <tr>\n",
       "      <th>1</th>\n",
       "      <td>Air India</td>\n",
       "      <td>2019-05-01 05:50:00</td>\n",
       "      <td>Kolkata</td>\n",
       "      <td>Banglore</td>\n",
       "      <td>CCU → IXR → BBI → BLR</td>\n",
       "      <td>7h 25m</td>\n",
       "      <td>2 stops</td>\n",
       "      <td>No info</td>\n",
       "      <td>7662</td>\n",
       "      <td>13:15</td>\n",
       "      <td>none</td>\n",
       "      <td>none</td>\n",
       "    </tr>\n",
       "  </tbody>\n",
       "</table>\n",
       "</div>"
      ],
      "text/plain": [
       "     Airline     Date_of_Journey    Source Destination                  Route  \\\n",
       "0     IndiGo 2019-03-24 22:20:00  Banglore   New Delhi              BLR → DEL   \n",
       "1  Air India 2019-05-01 05:50:00   Kolkata    Banglore  CCU → IXR → BBI → BLR   \n",
       "\n",
       "  Duration Total_Stops Additional_Info  Price Hour_of_Ariving day_of_Ariving  \\\n",
       "0   2h 50m    non-stop         No info   3897           01:10             22   \n",
       "1   7h 25m     2 stops         No info   7662           13:15           none   \n",
       "\n",
       "  Month_of_Ariving  \n",
       "0              Mar  \n",
       "1             none  "
      ]
     },
     "execution_count": 6,
     "metadata": {},
     "output_type": "execute_result"
    }
   ],
   "source": [
    "df.head(2)"
   ]
  },
  {
   "cell_type": "code",
   "execution_count": 7,
   "id": "e79d039a",
   "metadata": {},
   "outputs": [],
   "source": [
    "### replace Delhi by New Delhi\n",
    "df['Source'] = df['Source'].replace(\"Delhi\" , \"New Delhi\")\n",
    "df['Destination'] = df['Destination'].replace(\"Delhi\" , \"New Delhi\")"
   ]
  },
  {
   "cell_type": "code",
   "execution_count": 8,
   "id": "0bb13fd1",
   "metadata": {},
   "outputs": [],
   "source": [
    "### dictionary to convert Total_Stops to numerical columns\n",
    "change = {'non-stop':0 ,'1 stop':1 ,'2 stops':2 ,'3 stops':3 ,'4 stops':4}\n",
    "df['Total_Stops'] = df['Total_Stops'].map(change)"
   ]
  },
  {
   "cell_type": "code",
   "execution_count": 9,
   "id": "ef07121b",
   "metadata": {},
   "outputs": [],
   "source": [
    "### extract time from columns and clean and make feature extraction\n",
    "\n",
    "def extract_H(x):\n",
    "    return x[:3].split('h')[0]\n",
    "def extract_M(x):\n",
    "    return x[3:].split('m')[0]\n",
    "df['Duration_h'] = df['Duration'].apply(extract_H)\n",
    "df['Duration_m'] = df['Duration'].apply(extract_M) \n",
    "df['du_h']=df['Duration_h'].replace('5m',5)\n",
    "df['du_m']=df['Duration_m'].replace('',0)\n",
    "df.drop(['Duration','Duration_h','Duration_m'],axis = 1 , inplace=True)\n",
    "df[['du_h', 'du_m']] = df[['du_h', 'du_m']].astype('float')\n",
    "df['Duration_in_mintues'] = (df['du_h']*60) + df['du_m']\n",
    "df.drop(['du_h', 'du_m'] , axis = 1 , inplace = True)\n",
    "df['Month_of_Date_of_Journey'] = df['Date_of_Journey'].dt.month\n",
    "df['Month_Name_of_Date_of_Journey'] = df['Date_of_Journey'].dt.month_name()\n",
    "df['Day_number_of_Date_of_Journey'] = df['Date_of_Journey'].dt.day\n",
    "df['Day_Name_of_Date_of_Journey'] = df['Date_of_Journey'].dt.day_name()\n",
    "df['Hour_Date_of_Journey'] = df['Date_of_Journey'].dt.hour"
   ]
  },
  {
   "cell_type": "code",
   "execution_count": 10,
   "id": "b6ad2f8f",
   "metadata": {
    "scrolled": true
   },
   "outputs": [
    {
     "data": {
      "text/html": [
       "<div>\n",
       "<style scoped>\n",
       "    .dataframe tbody tr th:only-of-type {\n",
       "        vertical-align: middle;\n",
       "    }\n",
       "\n",
       "    .dataframe tbody tr th {\n",
       "        vertical-align: top;\n",
       "    }\n",
       "\n",
       "    .dataframe thead th {\n",
       "        text-align: right;\n",
       "    }\n",
       "</style>\n",
       "<table border=\"1\" class=\"dataframe\">\n",
       "  <thead>\n",
       "    <tr style=\"text-align: right;\">\n",
       "      <th></th>\n",
       "      <th>Airline</th>\n",
       "      <th>Date_of_Journey</th>\n",
       "      <th>Source</th>\n",
       "      <th>Destination</th>\n",
       "      <th>Route</th>\n",
       "      <th>Total_Stops</th>\n",
       "      <th>Additional_Info</th>\n",
       "      <th>Price</th>\n",
       "      <th>Hour_of_Ariving</th>\n",
       "      <th>day_of_Ariving</th>\n",
       "      <th>Month_of_Ariving</th>\n",
       "      <th>Duration_in_mintues</th>\n",
       "      <th>Month_of_Date_of_Journey</th>\n",
       "      <th>Month_Name_of_Date_of_Journey</th>\n",
       "      <th>Day_number_of_Date_of_Journey</th>\n",
       "      <th>Day_Name_of_Date_of_Journey</th>\n",
       "      <th>Hour_Date_of_Journey</th>\n",
       "    </tr>\n",
       "  </thead>\n",
       "  <tbody>\n",
       "    <tr>\n",
       "      <th>0</th>\n",
       "      <td>IndiGo</td>\n",
       "      <td>2019-03-24 22:20:00</td>\n",
       "      <td>Banglore</td>\n",
       "      <td>New Delhi</td>\n",
       "      <td>BLR → DEL</td>\n",
       "      <td>0.0</td>\n",
       "      <td>No info</td>\n",
       "      <td>3897</td>\n",
       "      <td>01:10</td>\n",
       "      <td>22</td>\n",
       "      <td>Mar</td>\n",
       "      <td>170.0</td>\n",
       "      <td>3</td>\n",
       "      <td>March</td>\n",
       "      <td>24</td>\n",
       "      <td>Sunday</td>\n",
       "      <td>22</td>\n",
       "    </tr>\n",
       "    <tr>\n",
       "      <th>1</th>\n",
       "      <td>Air India</td>\n",
       "      <td>2019-05-01 05:50:00</td>\n",
       "      <td>Kolkata</td>\n",
       "      <td>Banglore</td>\n",
       "      <td>CCU → IXR → BBI → BLR</td>\n",
       "      <td>2.0</td>\n",
       "      <td>No info</td>\n",
       "      <td>7662</td>\n",
       "      <td>13:15</td>\n",
       "      <td>none</td>\n",
       "      <td>none</td>\n",
       "      <td>445.0</td>\n",
       "      <td>5</td>\n",
       "      <td>May</td>\n",
       "      <td>1</td>\n",
       "      <td>Wednesday</td>\n",
       "      <td>5</td>\n",
       "    </tr>\n",
       "  </tbody>\n",
       "</table>\n",
       "</div>"
      ],
      "text/plain": [
       "     Airline     Date_of_Journey    Source Destination                  Route  \\\n",
       "0     IndiGo 2019-03-24 22:20:00  Banglore   New Delhi              BLR → DEL   \n",
       "1  Air India 2019-05-01 05:50:00   Kolkata    Banglore  CCU → IXR → BBI → BLR   \n",
       "\n",
       "   Total_Stops Additional_Info  Price Hour_of_Ariving day_of_Ariving  \\\n",
       "0          0.0         No info   3897           01:10             22   \n",
       "1          2.0         No info   7662           13:15           none   \n",
       "\n",
       "  Month_of_Ariving  Duration_in_mintues  Month_of_Date_of_Journey  \\\n",
       "0              Mar                170.0                         3   \n",
       "1             none                445.0                         5   \n",
       "\n",
       "  Month_Name_of_Date_of_Journey  Day_number_of_Date_of_Journey  \\\n",
       "0                         March                             24   \n",
       "1                           May                              1   \n",
       "\n",
       "  Day_Name_of_Date_of_Journey  Hour_Date_of_Journey  \n",
       "0                      Sunday                    22  \n",
       "1                   Wednesday                     5  "
      ]
     },
     "execution_count": 10,
     "metadata": {},
     "output_type": "execute_result"
    }
   ],
   "source": [
    "df.head(2)"
   ]
  },
  {
   "cell_type": "code",
   "execution_count": 11,
   "id": "0c9d2be0",
   "metadata": {},
   "outputs": [],
   "source": [
    "def GetDiff(a,b) : \n",
    "    if b!= 'none' : \n",
    "        return int(b) - int(a)\n",
    "df['DayDiff'] = df.apply(lambda x : GetDiff(x.Day_number_of_Date_of_Journey,x.day_of_Ariving) ,axis=1)"
   ]
  },
  {
   "cell_type": "code",
   "execution_count": 12,
   "id": "ab2dd511",
   "metadata": {},
   "outputs": [
    {
     "data": {
      "text/plain": [
       "array([-2., nan,  1.,  4.,  2., -5., -1.])"
      ]
     },
     "execution_count": 12,
     "metadata": {},
     "output_type": "execute_result"
    }
   ],
   "source": [
    "df['DayDiff'].unique()"
   ]
  },
  {
   "cell_type": "code",
   "execution_count": 13,
   "id": "1599b302",
   "metadata": {
    "scrolled": false
   },
   "outputs": [
    {
     "data": {
      "text/plain": [
       " 1.0    4143\n",
       "-2.0      84\n",
       " 4.0      52\n",
       " 2.0      51\n",
       "-5.0       4\n",
       "-1.0       1\n",
       "Name: DayDiff, dtype: int64"
      ]
     },
     "execution_count": 13,
     "metadata": {},
     "output_type": "execute_result"
    }
   ],
   "source": [
    "df['DayDiff'].value_counts()"
   ]
  },
  {
   "cell_type": "code",
   "execution_count": 14,
   "id": "b72367f0",
   "metadata": {},
   "outputs": [
    {
     "data": {
      "text/html": [
       "<div>\n",
       "<style scoped>\n",
       "    .dataframe tbody tr th:only-of-type {\n",
       "        vertical-align: middle;\n",
       "    }\n",
       "\n",
       "    .dataframe tbody tr th {\n",
       "        vertical-align: top;\n",
       "    }\n",
       "\n",
       "    .dataframe thead th {\n",
       "        text-align: right;\n",
       "    }\n",
       "</style>\n",
       "<table border=\"1\" class=\"dataframe\">\n",
       "  <thead>\n",
       "    <tr style=\"text-align: right;\">\n",
       "      <th></th>\n",
       "      <th>Airline</th>\n",
       "      <th>Date_of_Journey</th>\n",
       "      <th>Source</th>\n",
       "      <th>Destination</th>\n",
       "      <th>Route</th>\n",
       "      <th>Total_Stops</th>\n",
       "      <th>Additional_Info</th>\n",
       "      <th>Price</th>\n",
       "      <th>Hour_of_Ariving</th>\n",
       "      <th>day_of_Ariving</th>\n",
       "      <th>Month_of_Ariving</th>\n",
       "      <th>Duration_in_mintues</th>\n",
       "      <th>Month_of_Date_of_Journey</th>\n",
       "      <th>Month_Name_of_Date_of_Journey</th>\n",
       "      <th>Day_number_of_Date_of_Journey</th>\n",
       "      <th>Day_Name_of_Date_of_Journey</th>\n",
       "      <th>Hour_Date_of_Journey</th>\n",
       "      <th>DayDiff</th>\n",
       "    </tr>\n",
       "  </thead>\n",
       "  <tbody>\n",
       "    <tr>\n",
       "      <th>0</th>\n",
       "      <td>IndiGo</td>\n",
       "      <td>2019-03-24 22:20:00</td>\n",
       "      <td>Banglore</td>\n",
       "      <td>New Delhi</td>\n",
       "      <td>BLR → DEL</td>\n",
       "      <td>0.0</td>\n",
       "      <td>No info</td>\n",
       "      <td>3897</td>\n",
       "      <td>01:10</td>\n",
       "      <td>22</td>\n",
       "      <td>Mar</td>\n",
       "      <td>170.0</td>\n",
       "      <td>3</td>\n",
       "      <td>March</td>\n",
       "      <td>24</td>\n",
       "      <td>Sunday</td>\n",
       "      <td>22</td>\n",
       "      <td>-2.0</td>\n",
       "    </tr>\n",
       "    <tr>\n",
       "      <th>1</th>\n",
       "      <td>Air India</td>\n",
       "      <td>2019-05-01 05:50:00</td>\n",
       "      <td>Kolkata</td>\n",
       "      <td>Banglore</td>\n",
       "      <td>CCU → IXR → BBI → BLR</td>\n",
       "      <td>2.0</td>\n",
       "      <td>No info</td>\n",
       "      <td>7662</td>\n",
       "      <td>13:15</td>\n",
       "      <td>none</td>\n",
       "      <td>none</td>\n",
       "      <td>445.0</td>\n",
       "      <td>5</td>\n",
       "      <td>May</td>\n",
       "      <td>1</td>\n",
       "      <td>Wednesday</td>\n",
       "      <td>5</td>\n",
       "      <td>NaN</td>\n",
       "    </tr>\n",
       "  </tbody>\n",
       "</table>\n",
       "</div>"
      ],
      "text/plain": [
       "     Airline     Date_of_Journey    Source Destination                  Route  \\\n",
       "0     IndiGo 2019-03-24 22:20:00  Banglore   New Delhi              BLR → DEL   \n",
       "1  Air India 2019-05-01 05:50:00   Kolkata    Banglore  CCU → IXR → BBI → BLR   \n",
       "\n",
       "   Total_Stops Additional_Info  Price Hour_of_Ariving day_of_Ariving  \\\n",
       "0          0.0         No info   3897           01:10             22   \n",
       "1          2.0         No info   7662           13:15           none   \n",
       "\n",
       "  Month_of_Ariving  Duration_in_mintues  Month_of_Date_of_Journey  \\\n",
       "0              Mar                170.0                         3   \n",
       "1             none                445.0                         5   \n",
       "\n",
       "  Month_Name_of_Date_of_Journey  Day_number_of_Date_of_Journey  \\\n",
       "0                         March                             24   \n",
       "1                           May                              1   \n",
       "\n",
       "  Day_Name_of_Date_of_Journey  Hour_Date_of_Journey  DayDiff  \n",
       "0                      Sunday                    22     -2.0  \n",
       "1                   Wednesday                     5      NaN  "
      ]
     },
     "execution_count": 14,
     "metadata": {},
     "output_type": "execute_result"
    }
   ],
   "source": [
    "df.head(2)"
   ]
  },
  {
   "cell_type": "code",
   "execution_count": 15,
   "id": "ff4bbfc9",
   "metadata": {},
   "outputs": [],
   "source": [
    "df.drop(['day_of_Ariving','Month_of_Ariving','DayDiff'],axis=1,inplace=True)"
   ]
  },
  {
   "cell_type": "code",
   "execution_count": 16,
   "id": "a4aa91de",
   "metadata": {},
   "outputs": [],
   "source": [
    "df['ArrivalHour'] = df['Hour_of_Ariving'].apply(lambda x : x.split(':')[0])\n",
    "df.drop(['Hour_of_Ariving'],axis=1,inplace=True)"
   ]
  },
  {
   "cell_type": "code",
   "execution_count": 17,
   "id": "d48121f3",
   "metadata": {},
   "outputs": [
    {
     "data": {
      "text/html": [
       "<div>\n",
       "<style scoped>\n",
       "    .dataframe tbody tr th:only-of-type {\n",
       "        vertical-align: middle;\n",
       "    }\n",
       "\n",
       "    .dataframe tbody tr th {\n",
       "        vertical-align: top;\n",
       "    }\n",
       "\n",
       "    .dataframe thead th {\n",
       "        text-align: right;\n",
       "    }\n",
       "</style>\n",
       "<table border=\"1\" class=\"dataframe\">\n",
       "  <thead>\n",
       "    <tr style=\"text-align: right;\">\n",
       "      <th></th>\n",
       "      <th>Airline</th>\n",
       "      <th>Date_of_Journey</th>\n",
       "      <th>Source</th>\n",
       "      <th>Destination</th>\n",
       "      <th>Route</th>\n",
       "      <th>Total_Stops</th>\n",
       "      <th>Additional_Info</th>\n",
       "      <th>Price</th>\n",
       "      <th>Duration_in_mintues</th>\n",
       "      <th>Month_of_Date_of_Journey</th>\n",
       "      <th>Month_Name_of_Date_of_Journey</th>\n",
       "      <th>Day_number_of_Date_of_Journey</th>\n",
       "      <th>Day_Name_of_Date_of_Journey</th>\n",
       "      <th>Hour_Date_of_Journey</th>\n",
       "      <th>ArrivalHour</th>\n",
       "    </tr>\n",
       "  </thead>\n",
       "  <tbody>\n",
       "    <tr>\n",
       "      <th>0</th>\n",
       "      <td>IndiGo</td>\n",
       "      <td>2019-03-24 22:20:00</td>\n",
       "      <td>Banglore</td>\n",
       "      <td>New Delhi</td>\n",
       "      <td>BLR → DEL</td>\n",
       "      <td>0.0</td>\n",
       "      <td>No info</td>\n",
       "      <td>3897</td>\n",
       "      <td>170.0</td>\n",
       "      <td>3</td>\n",
       "      <td>March</td>\n",
       "      <td>24</td>\n",
       "      <td>Sunday</td>\n",
       "      <td>22</td>\n",
       "      <td>01</td>\n",
       "    </tr>\n",
       "    <tr>\n",
       "      <th>1</th>\n",
       "      <td>Air India</td>\n",
       "      <td>2019-05-01 05:50:00</td>\n",
       "      <td>Kolkata</td>\n",
       "      <td>Banglore</td>\n",
       "      <td>CCU → IXR → BBI → BLR</td>\n",
       "      <td>2.0</td>\n",
       "      <td>No info</td>\n",
       "      <td>7662</td>\n",
       "      <td>445.0</td>\n",
       "      <td>5</td>\n",
       "      <td>May</td>\n",
       "      <td>1</td>\n",
       "      <td>Wednesday</td>\n",
       "      <td>5</td>\n",
       "      <td>13</td>\n",
       "    </tr>\n",
       "  </tbody>\n",
       "</table>\n",
       "</div>"
      ],
      "text/plain": [
       "     Airline     Date_of_Journey    Source Destination                  Route  \\\n",
       "0     IndiGo 2019-03-24 22:20:00  Banglore   New Delhi              BLR → DEL   \n",
       "1  Air India 2019-05-01 05:50:00   Kolkata    Banglore  CCU → IXR → BBI → BLR   \n",
       "\n",
       "   Total_Stops Additional_Info  Price  Duration_in_mintues  \\\n",
       "0          0.0         No info   3897                170.0   \n",
       "1          2.0         No info   7662                445.0   \n",
       "\n",
       "   Month_of_Date_of_Journey Month_Name_of_Date_of_Journey  \\\n",
       "0                         3                         March   \n",
       "1                         5                           May   \n",
       "\n",
       "   Day_number_of_Date_of_Journey Day_Name_of_Date_of_Journey  \\\n",
       "0                             24                      Sunday   \n",
       "1                              1                   Wednesday   \n",
       "\n",
       "   Hour_Date_of_Journey ArrivalHour  \n",
       "0                    22          01  \n",
       "1                     5          13  "
      ]
     },
     "execution_count": 17,
     "metadata": {},
     "output_type": "execute_result"
    }
   ],
   "source": [
    "df.head(2)"
   ]
  },
  {
   "cell_type": "code",
   "execution_count": 18,
   "id": "ef0c62da",
   "metadata": {},
   "outputs": [],
   "source": [
    "####  FEATURE EXTRACTION\n",
    "def map_months(x):\n",
    "    if x in [12, 1, 2]:\n",
    "        return 'Winter'\n",
    "    elif x in [3, 4, 5]:\n",
    "        return 'Spring'\n",
    "    elif x in [6, 7, 8]:\n",
    "        return 'Summer'\n",
    "    elif x in [9, 10, 11]:\n",
    "        return 'Autumn'\n",
    "\n",
    "def map_hours(x):\n",
    "    if x in range(0, 13):\n",
    "        return 'morning'\n",
    "    elif x in range(13, 19):\n",
    "        return 'afternoon'\n",
    "    else:\n",
    "        return 'evening'    "
   ]
  },
  {
   "cell_type": "code",
   "execution_count": 19,
   "id": "12f57a8c",
   "metadata": {},
   "outputs": [],
   "source": [
    "df['Season_of_Date_of_Journey'] = df['Month_of_Date_of_Journey'].apply(map_months)\n",
    "    \n",
    "df['Period_of_Date_of_Journey'] = df['Hour_Date_of_Journey'].apply(map_hours)    "
   ]
  },
  {
   "cell_type": "code",
   "execution_count": 20,
   "id": "ac6e6dde",
   "metadata": {},
   "outputs": [
    {
     "data": {
      "text/html": [
       "<div>\n",
       "<style scoped>\n",
       "    .dataframe tbody tr th:only-of-type {\n",
       "        vertical-align: middle;\n",
       "    }\n",
       "\n",
       "    .dataframe tbody tr th {\n",
       "        vertical-align: top;\n",
       "    }\n",
       "\n",
       "    .dataframe thead th {\n",
       "        text-align: right;\n",
       "    }\n",
       "</style>\n",
       "<table border=\"1\" class=\"dataframe\">\n",
       "  <thead>\n",
       "    <tr style=\"text-align: right;\">\n",
       "      <th></th>\n",
       "      <th>Airline</th>\n",
       "      <th>Date_of_Journey</th>\n",
       "      <th>Source</th>\n",
       "      <th>Destination</th>\n",
       "      <th>Route</th>\n",
       "      <th>Total_Stops</th>\n",
       "      <th>Additional_Info</th>\n",
       "      <th>Price</th>\n",
       "      <th>Duration_in_mintues</th>\n",
       "      <th>Month_of_Date_of_Journey</th>\n",
       "      <th>Month_Name_of_Date_of_Journey</th>\n",
       "      <th>Day_number_of_Date_of_Journey</th>\n",
       "      <th>Day_Name_of_Date_of_Journey</th>\n",
       "      <th>Hour_Date_of_Journey</th>\n",
       "      <th>ArrivalHour</th>\n",
       "      <th>Season_of_Date_of_Journey</th>\n",
       "      <th>Period_of_Date_of_Journey</th>\n",
       "    </tr>\n",
       "  </thead>\n",
       "  <tbody>\n",
       "    <tr>\n",
       "      <th>0</th>\n",
       "      <td>IndiGo</td>\n",
       "      <td>2019-03-24 22:20:00</td>\n",
       "      <td>Banglore</td>\n",
       "      <td>New Delhi</td>\n",
       "      <td>BLR → DEL</td>\n",
       "      <td>0.0</td>\n",
       "      <td>No info</td>\n",
       "      <td>3897</td>\n",
       "      <td>170.0</td>\n",
       "      <td>3</td>\n",
       "      <td>March</td>\n",
       "      <td>24</td>\n",
       "      <td>Sunday</td>\n",
       "      <td>22</td>\n",
       "      <td>01</td>\n",
       "      <td>Spring</td>\n",
       "      <td>evening</td>\n",
       "    </tr>\n",
       "    <tr>\n",
       "      <th>1</th>\n",
       "      <td>Air India</td>\n",
       "      <td>2019-05-01 05:50:00</td>\n",
       "      <td>Kolkata</td>\n",
       "      <td>Banglore</td>\n",
       "      <td>CCU → IXR → BBI → BLR</td>\n",
       "      <td>2.0</td>\n",
       "      <td>No info</td>\n",
       "      <td>7662</td>\n",
       "      <td>445.0</td>\n",
       "      <td>5</td>\n",
       "      <td>May</td>\n",
       "      <td>1</td>\n",
       "      <td>Wednesday</td>\n",
       "      <td>5</td>\n",
       "      <td>13</td>\n",
       "      <td>Spring</td>\n",
       "      <td>morning</td>\n",
       "    </tr>\n",
       "    <tr>\n",
       "      <th>2</th>\n",
       "      <td>Jet Airways</td>\n",
       "      <td>2019-06-09 09:25:00</td>\n",
       "      <td>New Delhi</td>\n",
       "      <td>Cochin</td>\n",
       "      <td>DEL → LKO → BOM → COK</td>\n",
       "      <td>2.0</td>\n",
       "      <td>No info</td>\n",
       "      <td>13882</td>\n",
       "      <td>1140.0</td>\n",
       "      <td>6</td>\n",
       "      <td>June</td>\n",
       "      <td>9</td>\n",
       "      <td>Sunday</td>\n",
       "      <td>9</td>\n",
       "      <td>04</td>\n",
       "      <td>Summer</td>\n",
       "      <td>morning</td>\n",
       "    </tr>\n",
       "    <tr>\n",
       "      <th>3</th>\n",
       "      <td>IndiGo</td>\n",
       "      <td>2019-05-12 18:05:00</td>\n",
       "      <td>Kolkata</td>\n",
       "      <td>Banglore</td>\n",
       "      <td>CCU → NAG → BLR</td>\n",
       "      <td>1.0</td>\n",
       "      <td>No info</td>\n",
       "      <td>6218</td>\n",
       "      <td>325.0</td>\n",
       "      <td>5</td>\n",
       "      <td>May</td>\n",
       "      <td>12</td>\n",
       "      <td>Sunday</td>\n",
       "      <td>18</td>\n",
       "      <td>23</td>\n",
       "      <td>Spring</td>\n",
       "      <td>afternoon</td>\n",
       "    </tr>\n",
       "    <tr>\n",
       "      <th>4</th>\n",
       "      <td>IndiGo</td>\n",
       "      <td>2019-03-01 16:50:00</td>\n",
       "      <td>Banglore</td>\n",
       "      <td>New Delhi</td>\n",
       "      <td>BLR → NAG → DEL</td>\n",
       "      <td>1.0</td>\n",
       "      <td>No info</td>\n",
       "      <td>13302</td>\n",
       "      <td>285.0</td>\n",
       "      <td>3</td>\n",
       "      <td>March</td>\n",
       "      <td>1</td>\n",
       "      <td>Friday</td>\n",
       "      <td>16</td>\n",
       "      <td>21</td>\n",
       "      <td>Spring</td>\n",
       "      <td>afternoon</td>\n",
       "    </tr>\n",
       "  </tbody>\n",
       "</table>\n",
       "</div>"
      ],
      "text/plain": [
       "       Airline     Date_of_Journey     Source Destination  \\\n",
       "0       IndiGo 2019-03-24 22:20:00   Banglore   New Delhi   \n",
       "1    Air India 2019-05-01 05:50:00    Kolkata    Banglore   \n",
       "2  Jet Airways 2019-06-09 09:25:00  New Delhi      Cochin   \n",
       "3       IndiGo 2019-05-12 18:05:00    Kolkata    Banglore   \n",
       "4       IndiGo 2019-03-01 16:50:00   Banglore   New Delhi   \n",
       "\n",
       "                   Route  Total_Stops Additional_Info  Price  \\\n",
       "0              BLR → DEL          0.0         No info   3897   \n",
       "1  CCU → IXR → BBI → BLR          2.0         No info   7662   \n",
       "2  DEL → LKO → BOM → COK          2.0         No info  13882   \n",
       "3        CCU → NAG → BLR          1.0         No info   6218   \n",
       "4        BLR → NAG → DEL          1.0         No info  13302   \n",
       "\n",
       "   Duration_in_mintues  Month_of_Date_of_Journey  \\\n",
       "0                170.0                         3   \n",
       "1                445.0                         5   \n",
       "2               1140.0                         6   \n",
       "3                325.0                         5   \n",
       "4                285.0                         3   \n",
       "\n",
       "  Month_Name_of_Date_of_Journey  Day_number_of_Date_of_Journey  \\\n",
       "0                         March                             24   \n",
       "1                           May                              1   \n",
       "2                          June                              9   \n",
       "3                           May                             12   \n",
       "4                         March                              1   \n",
       "\n",
       "  Day_Name_of_Date_of_Journey  Hour_Date_of_Journey ArrivalHour  \\\n",
       "0                      Sunday                    22          01   \n",
       "1                   Wednesday                     5          13   \n",
       "2                      Sunday                     9          04   \n",
       "3                      Sunday                    18          23   \n",
       "4                      Friday                    16          21   \n",
       "\n",
       "  Season_of_Date_of_Journey Period_of_Date_of_Journey  \n",
       "0                    Spring                   evening  \n",
       "1                    Spring                   morning  \n",
       "2                    Summer                   morning  \n",
       "3                    Spring                 afternoon  \n",
       "4                    Spring                 afternoon  "
      ]
     },
     "execution_count": 20,
     "metadata": {},
     "output_type": "execute_result"
    }
   ],
   "source": [
    "df.head()"
   ]
  },
  {
   "cell_type": "code",
   "execution_count": 21,
   "id": "f5de7244",
   "metadata": {},
   "outputs": [],
   "source": [
    "#### FEATURE EXTRACTION\n",
    "### EXTRACT DISTANCE BETWEEN  LOCATIONS BY GET LAT&LONG\n",
    "geolocator = Nominatim(user_agent=\"MOUSA\")\n",
    "change = {'New Delhi':28.6138954 ,'Banglore':12.9587464 ,'Cochin':9.931308 ,'Kolkata':22.5414185,'Hyderabad':17.360589}\n",
    "df['Destination_latitude'] = df['Destination'].map(change)\n",
    "change = {'New Delhi':77.2090057 ,'Banglore':77.5573456 ,'Cochin':76.2674136 ,'Kolkata':88.35769124388872,'Hyderabad':78.4740613}\n",
    "df['Destination_longitude'] = df['Destination'].map(change)\n",
    "change = {'New Delhi':28.6138954 ,'Banglore':12.9587464 ,'Chennai':13.0836939 ,'Kolkata':22.5414185,'Mumbai':19.0785451}\n",
    "df['Source_latitude'] = df['Source'].map(change)\n",
    "change = {'New Delhi':28.6138954 ,'Banglore':12.9587464 ,'Chennai':80.270186 ,'Kolkata':22.5414185,'Mumbai':72.878176}\n",
    "df['Source_longitude'] = df['Source'].map(change)\n",
    "def get_dist(x):\n",
    "    loc_1 = (x['Source_latitude'], x['Source_longitude'])\n",
    "    loc_2 = (x['Destination_latitude'], x['Destination_longitude'])\n",
    "    return great_circle(loc_1, loc_2).kilometers\n",
    "\n",
    "df['miles'] = df.apply(get_dist, axis=1)\n",
    "df['Speed_of_flight_kg/m'] = df['miles'] / df['Duration_in_mintues']"
   ]
  },
  {
   "cell_type": "code",
   "execution_count": 22,
   "id": "ad00edaf",
   "metadata": {},
   "outputs": [
    {
     "data": {
      "text/html": [
       "<div>\n",
       "<style scoped>\n",
       "    .dataframe tbody tr th:only-of-type {\n",
       "        vertical-align: middle;\n",
       "    }\n",
       "\n",
       "    .dataframe tbody tr th {\n",
       "        vertical-align: top;\n",
       "    }\n",
       "\n",
       "    .dataframe thead th {\n",
       "        text-align: right;\n",
       "    }\n",
       "</style>\n",
       "<table border=\"1\" class=\"dataframe\">\n",
       "  <thead>\n",
       "    <tr style=\"text-align: right;\">\n",
       "      <th></th>\n",
       "      <th>Airline</th>\n",
       "      <th>Date_of_Journey</th>\n",
       "      <th>Source</th>\n",
       "      <th>Destination</th>\n",
       "      <th>Route</th>\n",
       "      <th>Total_Stops</th>\n",
       "      <th>Additional_Info</th>\n",
       "      <th>Price</th>\n",
       "      <th>Duration_in_mintues</th>\n",
       "      <th>Month_of_Date_of_Journey</th>\n",
       "      <th>...</th>\n",
       "      <th>Hour_Date_of_Journey</th>\n",
       "      <th>ArrivalHour</th>\n",
       "      <th>Season_of_Date_of_Journey</th>\n",
       "      <th>Period_of_Date_of_Journey</th>\n",
       "      <th>Destination_latitude</th>\n",
       "      <th>Destination_longitude</th>\n",
       "      <th>Source_latitude</th>\n",
       "      <th>Source_longitude</th>\n",
       "      <th>miles</th>\n",
       "      <th>Speed_of_flight_kg/m</th>\n",
       "    </tr>\n",
       "  </thead>\n",
       "  <tbody>\n",
       "    <tr>\n",
       "      <th>0</th>\n",
       "      <td>IndiGo</td>\n",
       "      <td>2019-03-24 22:20:00</td>\n",
       "      <td>Banglore</td>\n",
       "      <td>New Delhi</td>\n",
       "      <td>BLR → DEL</td>\n",
       "      <td>0.0</td>\n",
       "      <td>No info</td>\n",
       "      <td>3897</td>\n",
       "      <td>170.0</td>\n",
       "      <td>3</td>\n",
       "      <td>...</td>\n",
       "      <td>22</td>\n",
       "      <td>01</td>\n",
       "      <td>Spring</td>\n",
       "      <td>evening</td>\n",
       "      <td>28.613895</td>\n",
       "      <td>77.209006</td>\n",
       "      <td>12.958746</td>\n",
       "      <td>12.958746</td>\n",
       "      <td>6824.688064</td>\n",
       "      <td>40.145224</td>\n",
       "    </tr>\n",
       "    <tr>\n",
       "      <th>1</th>\n",
       "      <td>Air India</td>\n",
       "      <td>2019-05-01 05:50:00</td>\n",
       "      <td>Kolkata</td>\n",
       "      <td>Banglore</td>\n",
       "      <td>CCU → IXR → BBI → BLR</td>\n",
       "      <td>2.0</td>\n",
       "      <td>No info</td>\n",
       "      <td>7662</td>\n",
       "      <td>445.0</td>\n",
       "      <td>5</td>\n",
       "      <td>...</td>\n",
       "      <td>5</td>\n",
       "      <td>13</td>\n",
       "      <td>Spring</td>\n",
       "      <td>morning</td>\n",
       "      <td>12.958746</td>\n",
       "      <td>77.557346</td>\n",
       "      <td>22.541418</td>\n",
       "      <td>22.541418</td>\n",
       "      <td>5891.655652</td>\n",
       "      <td>13.239676</td>\n",
       "    </tr>\n",
       "    <tr>\n",
       "      <th>2</th>\n",
       "      <td>Jet Airways</td>\n",
       "      <td>2019-06-09 09:25:00</td>\n",
       "      <td>New Delhi</td>\n",
       "      <td>Cochin</td>\n",
       "      <td>DEL → LKO → BOM → COK</td>\n",
       "      <td>2.0</td>\n",
       "      <td>No info</td>\n",
       "      <td>13882</td>\n",
       "      <td>1140.0</td>\n",
       "      <td>6</td>\n",
       "      <td>...</td>\n",
       "      <td>9</td>\n",
       "      <td>04</td>\n",
       "      <td>Summer</td>\n",
       "      <td>morning</td>\n",
       "      <td>9.931308</td>\n",
       "      <td>76.267414</td>\n",
       "      <td>28.613895</td>\n",
       "      <td>28.613895</td>\n",
       "      <td>5372.037319</td>\n",
       "      <td>4.712313</td>\n",
       "    </tr>\n",
       "    <tr>\n",
       "      <th>3</th>\n",
       "      <td>IndiGo</td>\n",
       "      <td>2019-05-12 18:05:00</td>\n",
       "      <td>Kolkata</td>\n",
       "      <td>Banglore</td>\n",
       "      <td>CCU → NAG → BLR</td>\n",
       "      <td>1.0</td>\n",
       "      <td>No info</td>\n",
       "      <td>6218</td>\n",
       "      <td>325.0</td>\n",
       "      <td>5</td>\n",
       "      <td>...</td>\n",
       "      <td>18</td>\n",
       "      <td>23</td>\n",
       "      <td>Spring</td>\n",
       "      <td>afternoon</td>\n",
       "      <td>12.958746</td>\n",
       "      <td>77.557346</td>\n",
       "      <td>22.541418</td>\n",
       "      <td>22.541418</td>\n",
       "      <td>5891.655652</td>\n",
       "      <td>18.128171</td>\n",
       "    </tr>\n",
       "    <tr>\n",
       "      <th>4</th>\n",
       "      <td>IndiGo</td>\n",
       "      <td>2019-03-01 16:50:00</td>\n",
       "      <td>Banglore</td>\n",
       "      <td>New Delhi</td>\n",
       "      <td>BLR → NAG → DEL</td>\n",
       "      <td>1.0</td>\n",
       "      <td>No info</td>\n",
       "      <td>13302</td>\n",
       "      <td>285.0</td>\n",
       "      <td>3</td>\n",
       "      <td>...</td>\n",
       "      <td>16</td>\n",
       "      <td>21</td>\n",
       "      <td>Spring</td>\n",
       "      <td>afternoon</td>\n",
       "      <td>28.613895</td>\n",
       "      <td>77.209006</td>\n",
       "      <td>12.958746</td>\n",
       "      <td>12.958746</td>\n",
       "      <td>6824.688064</td>\n",
       "      <td>23.946274</td>\n",
       "    </tr>\n",
       "  </tbody>\n",
       "</table>\n",
       "<p>5 rows × 23 columns</p>\n",
       "</div>"
      ],
      "text/plain": [
       "       Airline     Date_of_Journey     Source Destination  \\\n",
       "0       IndiGo 2019-03-24 22:20:00   Banglore   New Delhi   \n",
       "1    Air India 2019-05-01 05:50:00    Kolkata    Banglore   \n",
       "2  Jet Airways 2019-06-09 09:25:00  New Delhi      Cochin   \n",
       "3       IndiGo 2019-05-12 18:05:00    Kolkata    Banglore   \n",
       "4       IndiGo 2019-03-01 16:50:00   Banglore   New Delhi   \n",
       "\n",
       "                   Route  Total_Stops Additional_Info  Price  \\\n",
       "0              BLR → DEL          0.0         No info   3897   \n",
       "1  CCU → IXR → BBI → BLR          2.0         No info   7662   \n",
       "2  DEL → LKO → BOM → COK          2.0         No info  13882   \n",
       "3        CCU → NAG → BLR          1.0         No info   6218   \n",
       "4        BLR → NAG → DEL          1.0         No info  13302   \n",
       "\n",
       "   Duration_in_mintues  Month_of_Date_of_Journey  ... Hour_Date_of_Journey  \\\n",
       "0                170.0                         3  ...                   22   \n",
       "1                445.0                         5  ...                    5   \n",
       "2               1140.0                         6  ...                    9   \n",
       "3                325.0                         5  ...                   18   \n",
       "4                285.0                         3  ...                   16   \n",
       "\n",
       "   ArrivalHour Season_of_Date_of_Journey  Period_of_Date_of_Journey  \\\n",
       "0           01                    Spring                    evening   \n",
       "1           13                    Spring                    morning   \n",
       "2           04                    Summer                    morning   \n",
       "3           23                    Spring                  afternoon   \n",
       "4           21                    Spring                  afternoon   \n",
       "\n",
       "  Destination_latitude Destination_longitude Source_latitude  \\\n",
       "0            28.613895             77.209006       12.958746   \n",
       "1            12.958746             77.557346       22.541418   \n",
       "2             9.931308             76.267414       28.613895   \n",
       "3            12.958746             77.557346       22.541418   \n",
       "4            28.613895             77.209006       12.958746   \n",
       "\n",
       "   Source_longitude        miles  Speed_of_flight_kg/m  \n",
       "0         12.958746  6824.688064             40.145224  \n",
       "1         22.541418  5891.655652             13.239676  \n",
       "2         28.613895  5372.037319              4.712313  \n",
       "3         22.541418  5891.655652             18.128171  \n",
       "4         12.958746  6824.688064             23.946274  \n",
       "\n",
       "[5 rows x 23 columns]"
      ]
     },
     "execution_count": 22,
     "metadata": {},
     "output_type": "execute_result"
    }
   ],
   "source": [
    "df.head()"
   ]
  },
  {
   "cell_type": "code",
   "execution_count": 23,
   "id": "66fe3404",
   "metadata": {},
   "outputs": [
    {
     "data": {
      "text/plain": [
       "{'1 Long layover',\n",
       " '1 Short layover',\n",
       " '2 Long layover',\n",
       " 'Business class',\n",
       " 'Change airports',\n",
       " 'In-flight meal not included',\n",
       " 'No Info',\n",
       " 'No check-in baggage included',\n",
       " 'No info',\n",
       " 'Red-eye flight'}"
      ]
     },
     "execution_count": 23,
     "metadata": {},
     "output_type": "execute_result"
    }
   ],
   "source": [
    "set(df['Additional_Info'].unique())"
   ]
  },
  {
   "cell_type": "code",
   "execution_count": 24,
   "id": "4691e327",
   "metadata": {},
   "outputs": [
    {
     "data": {
      "text/plain": [
       "No info                         8345\n",
       "In-flight meal not included     1982\n",
       "No check-in baggage included     320\n",
       "1 Long layover                    19\n",
       "Change airports                    7\n",
       "Business class                     4\n",
       "No Info                            3\n",
       "1 Short layover                    1\n",
       "Red-eye flight                     1\n",
       "2 Long layover                     1\n",
       "Name: Additional_Info, dtype: int64"
      ]
     },
     "execution_count": 24,
     "metadata": {},
     "output_type": "execute_result"
    }
   ],
   "source": [
    "df['Additional_Info'].value_counts()"
   ]
  },
  {
   "cell_type": "code",
   "execution_count": 25,
   "id": "864c4c43",
   "metadata": {},
   "outputs": [
    {
     "data": {
      "text/plain": [
       "1    8701\n",
       "0    1982\n",
       "Name: Meal Included, dtype: int64"
      ]
     },
     "execution_count": 25,
     "metadata": {},
     "output_type": "execute_result"
    }
   ],
   "source": [
    "df['Meal Included'] = df['Additional_Info'].apply(lambda x : 1 if x != 'In-flight meal not included' else 0)\n",
    "df['Meal Included'].value_counts()"
   ]
  },
  {
   "cell_type": "code",
   "execution_count": 26,
   "id": "2cd78a43",
   "metadata": {},
   "outputs": [],
   "source": [
    "df['Additional_Info'].replace('No Info','No info',inplace=True)"
   ]
  },
  {
   "cell_type": "code",
   "execution_count": 27,
   "id": "8df588da",
   "metadata": {
    "scrolled": true
   },
   "outputs": [
    {
     "data": {
      "text/plain": [
       "No info                         8348\n",
       "In-flight meal not included     1982\n",
       "No check-in baggage included     320\n",
       "1 Long layover                    19\n",
       "Change airports                    7\n",
       "Business class                     4\n",
       "1 Short layover                    1\n",
       "Red-eye flight                     1\n",
       "2 Long layover                     1\n",
       "Name: Additional_Info, dtype: int64"
      ]
     },
     "execution_count": 27,
     "metadata": {},
     "output_type": "execute_result"
    }
   ],
   "source": [
    "df['Additional_Info'].value_counts()"
   ]
  },
  {
   "cell_type": "code",
   "execution_count": 28,
   "id": "6a8c51f1",
   "metadata": {},
   "outputs": [
    {
     "data": {
      "text/plain": [
       "Index(['Airline', 'Date_of_Journey', 'Source', 'Destination', 'Route',\n",
       "       'Total_Stops', 'Additional_Info', 'Price', 'Duration_in_mintues',\n",
       "       'Month_of_Date_of_Journey', 'Month_Name_of_Date_of_Journey',\n",
       "       'Day_number_of_Date_of_Journey', 'Day_Name_of_Date_of_Journey',\n",
       "       'Hour_Date_of_Journey', 'ArrivalHour', 'Season_of_Date_of_Journey',\n",
       "       'Period_of_Date_of_Journey', 'Destination_latitude',\n",
       "       'Destination_longitude', 'Source_latitude', 'Source_longitude', 'miles',\n",
       "       'Speed_of_flight_kg/m', 'Meal Included'],\n",
       "      dtype='object')"
      ]
     },
     "execution_count": 28,
     "metadata": {},
     "output_type": "execute_result"
    }
   ],
   "source": [
    "df.columns"
   ]
  },
  {
   "cell_type": "code",
   "execution_count": 29,
   "id": "730d5eb8",
   "metadata": {},
   "outputs": [
    {
     "data": {
      "text/plain": [
       "Extreme Long    4759\n",
       "Medium          4434\n",
       "Long             869\n",
       "short            621\n",
       "Name: FlightLength, dtype: int64"
      ]
     },
     "execution_count": 29,
     "metadata": {},
     "output_type": "execute_result"
    }
   ],
   "source": [
    "def FlightLength(n) : \n",
    "    if n < 120 : \n",
    "        return 'short'\n",
    "    elif n < 480 : \n",
    "        return 'Medium'\n",
    "    elif n < 600 : \n",
    "        return 'Long'\n",
    "    else : \n",
    "        return 'Extreme Long'\n",
    "    \n",
    "    \n",
    "df['FlightLength'] = df['Duration_in_mintues'].apply(lambda x  : FlightLength(x))\n",
    "df['FlightLength'].value_counts()"
   ]
  },
  {
   "cell_type": "code",
   "execution_count": 30,
   "id": "4118124e",
   "metadata": {
    "scrolled": false
   },
   "outputs": [
    {
     "data": {
      "text/html": [
       "<div>\n",
       "<style scoped>\n",
       "    .dataframe tbody tr th:only-of-type {\n",
       "        vertical-align: middle;\n",
       "    }\n",
       "\n",
       "    .dataframe tbody tr th {\n",
       "        vertical-align: top;\n",
       "    }\n",
       "\n",
       "    .dataframe thead th {\n",
       "        text-align: right;\n",
       "    }\n",
       "</style>\n",
       "<table border=\"1\" class=\"dataframe\">\n",
       "  <thead>\n",
       "    <tr style=\"text-align: right;\">\n",
       "      <th></th>\n",
       "      <th>Airline</th>\n",
       "      <th>Date_of_Journey</th>\n",
       "      <th>Source</th>\n",
       "      <th>Destination</th>\n",
       "      <th>Route</th>\n",
       "      <th>Total_Stops</th>\n",
       "      <th>Additional_Info</th>\n",
       "      <th>Price</th>\n",
       "      <th>Duration_in_mintues</th>\n",
       "      <th>Month_of_Date_of_Journey</th>\n",
       "      <th>...</th>\n",
       "      <th>Season_of_Date_of_Journey</th>\n",
       "      <th>Period_of_Date_of_Journey</th>\n",
       "      <th>Destination_latitude</th>\n",
       "      <th>Destination_longitude</th>\n",
       "      <th>Source_latitude</th>\n",
       "      <th>Source_longitude</th>\n",
       "      <th>miles</th>\n",
       "      <th>Speed_of_flight_kg/m</th>\n",
       "      <th>Meal Included</th>\n",
       "      <th>FlightLength</th>\n",
       "    </tr>\n",
       "  </thead>\n",
       "  <tbody>\n",
       "    <tr>\n",
       "      <th>0</th>\n",
       "      <td>IndiGo</td>\n",
       "      <td>2019-03-24 22:20:00</td>\n",
       "      <td>Banglore</td>\n",
       "      <td>New Delhi</td>\n",
       "      <td>BLR → DEL</td>\n",
       "      <td>0.0</td>\n",
       "      <td>No info</td>\n",
       "      <td>3897</td>\n",
       "      <td>170.0</td>\n",
       "      <td>3</td>\n",
       "      <td>...</td>\n",
       "      <td>Spring</td>\n",
       "      <td>evening</td>\n",
       "      <td>28.613895</td>\n",
       "      <td>77.209006</td>\n",
       "      <td>12.958746</td>\n",
       "      <td>12.958746</td>\n",
       "      <td>6824.688064</td>\n",
       "      <td>40.145224</td>\n",
       "      <td>1</td>\n",
       "      <td>Medium</td>\n",
       "    </tr>\n",
       "    <tr>\n",
       "      <th>1</th>\n",
       "      <td>Air India</td>\n",
       "      <td>2019-05-01 05:50:00</td>\n",
       "      <td>Kolkata</td>\n",
       "      <td>Banglore</td>\n",
       "      <td>CCU → IXR → BBI → BLR</td>\n",
       "      <td>2.0</td>\n",
       "      <td>No info</td>\n",
       "      <td>7662</td>\n",
       "      <td>445.0</td>\n",
       "      <td>5</td>\n",
       "      <td>...</td>\n",
       "      <td>Spring</td>\n",
       "      <td>morning</td>\n",
       "      <td>12.958746</td>\n",
       "      <td>77.557346</td>\n",
       "      <td>22.541418</td>\n",
       "      <td>22.541418</td>\n",
       "      <td>5891.655652</td>\n",
       "      <td>13.239676</td>\n",
       "      <td>1</td>\n",
       "      <td>Medium</td>\n",
       "    </tr>\n",
       "  </tbody>\n",
       "</table>\n",
       "<p>2 rows × 25 columns</p>\n",
       "</div>"
      ],
      "text/plain": [
       "     Airline     Date_of_Journey    Source Destination                  Route  \\\n",
       "0     IndiGo 2019-03-24 22:20:00  Banglore   New Delhi              BLR → DEL   \n",
       "1  Air India 2019-05-01 05:50:00   Kolkata    Banglore  CCU → IXR → BBI → BLR   \n",
       "\n",
       "   Total_Stops Additional_Info  Price  Duration_in_mintues  \\\n",
       "0          0.0         No info   3897                170.0   \n",
       "1          2.0         No info   7662                445.0   \n",
       "\n",
       "   Month_of_Date_of_Journey  ... Season_of_Date_of_Journey  \\\n",
       "0                         3  ...                    Spring   \n",
       "1                         5  ...                    Spring   \n",
       "\n",
       "   Period_of_Date_of_Journey Destination_latitude  Destination_longitude  \\\n",
       "0                    evening            28.613895              77.209006   \n",
       "1                    morning            12.958746              77.557346   \n",
       "\n",
       "  Source_latitude Source_longitude        miles  Speed_of_flight_kg/m  \\\n",
       "0       12.958746        12.958746  6824.688064             40.145224   \n",
       "1       22.541418        22.541418  5891.655652             13.239676   \n",
       "\n",
       "   Meal Included  FlightLength  \n",
       "0              1        Medium  \n",
       "1              1        Medium  \n",
       "\n",
       "[2 rows x 25 columns]"
      ]
     },
     "execution_count": 30,
     "metadata": {},
     "output_type": "execute_result"
    }
   ],
   "source": [
    "df.head(2)"
   ]
  },
  {
   "cell_type": "code",
   "execution_count": 31,
   "id": "a3945b06",
   "metadata": {
    "scrolled": true
   },
   "outputs": [
    {
     "name": "stdout",
     "output_type": "stream",
     "text": [
      "222\n"
     ]
    }
   ],
   "source": [
    "### DROP DUPLICATES\n",
    "print(df.duplicated().sum())\n",
    "df.drop_duplicates(inplace=True)"
   ]
  },
  {
   "cell_type": "code",
   "execution_count": 32,
   "id": "d9d9820a",
   "metadata": {},
   "outputs": [],
   "source": [
    "df.dropna(inplace=True)"
   ]
  },
  {
   "cell_type": "markdown",
   "id": "24dde5a3",
   "metadata": {},
   "source": [
    "### ANALYSIS AND VISUALIZATION"
   ]
  },
  {
   "cell_type": "code",
   "execution_count": 33,
   "id": "b9c3460c",
   "metadata": {},
   "outputs": [],
   "source": [
    "import seaborn as sns\n",
    "%matplotlib inline\n",
    "sns.set(rc={'figure.figsize': [5, 5]}, font_scale=0.8)"
   ]
  },
  {
   "cell_type": "code",
   "execution_count": 34,
   "id": "56f55043",
   "metadata": {},
   "outputs": [
    {
     "data": {
      "text/plain": [
       "<AxesSubplot:xlabel='count', ylabel='Airline'>"
      ]
     },
     "execution_count": 34,
     "metadata": {},
     "output_type": "execute_result"
    },
    {
     "data": {
      "image/png": "[encoded data removed]",
      "text/plain": [
       "<Figure size 360x360 with 1 Axes>"
      ]
     },
     "metadata": {},
     "output_type": "display_data"
    }
   ],
   "source": [
    "sns.countplot(y=df['Airline'] , data=df)"
   ]
  },
  {
   "cell_type": "code",
   "execution_count": 35,
   "id": "6d6f2785",
   "metadata": {
    "scrolled": true
   },
   "outputs": [
    {
     "data": {
      "text/plain": [
       "<AxesSubplot:xlabel='count', ylabel='Source'>"
      ]
     },
     "execution_count": 35,
     "metadata": {},
     "output_type": "execute_result"
    },
    {
     "data": {
      "image/png": "[encoded data removed]",
      "text/plain": [
       "<Figure size 360x360 with 1 Axes>"
      ]
     },
     "metadata": {},
     "output_type": "display_data"
    }
   ],
   "source": [
    "sns.countplot(y=df['Source'] , data=df)"
   ]
  },
  {
   "cell_type": "code",
   "execution_count": 36,
   "id": "6edd72f4",
   "metadata": {
    "scrolled": false
   },
   "outputs": [
    {
     "data": {
      "text/plain": [
       "<AxesSubplot:xlabel='count', ylabel='Destination'>"
      ]
     },
     "execution_count": 36,
     "metadata": {},
     "output_type": "execute_result"
    },
    {
     "data": {
      "image/png": "[encoded data removed]",
      "text/plain": [
       "<Figure size 360x360 with 1 Axes>"
      ]
     },
     "metadata": {},
     "output_type": "display_data"
    }
   ],
   "source": [
    "sns.countplot(y=df['Destination'] , data=df)"
   ]
  },
  {
   "cell_type": "code",
   "execution_count": 37,
   "id": "c8fef781",
   "metadata": {},
   "outputs": [
    {
     "data": {
      "text/plain": [
       "<AxesSubplot:xlabel='count', ylabel='Month_of_Date_of_Journey'>"
      ]
     },
     "execution_count": 37,
     "metadata": {},
     "output_type": "execute_result"
    },
    {
     "data": {
      "image/png": "[encoded data removed]",
      "text/plain": [
       "<Figure size 360x360 with 1 Axes>"
      ]
     },
     "metadata": {},
     "output_type": "display_data"
    }
   ],
   "source": [
    "sns.countplot(y=df['Month_of_Date_of_Journey'] , data=df)"
   ]
  },
  {
   "cell_type": "code",
   "execution_count": 38,
   "id": "6cf3d206",
   "metadata": {
    "scrolled": false
   },
   "outputs": [
    {
     "data": {
      "text/plain": [
       "<AxesSubplot:xlabel='count', ylabel='Day_Name_of_Date_of_Journey'>"
      ]
     },
     "execution_count": 38,
     "metadata": {},
     "output_type": "execute_result"
    },
    {
     "data": {
      "image/png": "[encoded data removed]",
      "text/plain": [
       "<Figure size 360x360 with 1 Axes>"
      ]
     },
     "metadata": {},
     "output_type": "display_data"
    }
   ],
   "source": [
    "sns.countplot(y=df['Day_Name_of_Date_of_Journey'] , data=df)"
   ]
  },
  {
   "cell_type": "code",
   "execution_count": 39,
   "id": "1da3ad74",
   "metadata": {},
   "outputs": [
    {
     "data": {
      "text/plain": [
       "<AxesSubplot:xlabel='count', ylabel='Period_of_Date_of_Journey'>"
      ]
     },
     "execution_count": 39,
     "metadata": {},
     "output_type": "execute_result"
    },
    {
     "data": {
      "image/png": "[encoded data removed]",
      "text/plain": [
       "<Figure size 360x360 with 1 Axes>"
      ]
     },
     "metadata": {},
     "output_type": "display_data"
    }
   ],
   "source": [
    "sns.countplot(y=df['Period_of_Date_of_Journey'] , data=df)"
   ]
  },
  {
   "cell_type": "code",
   "execution_count": 40,
   "id": "02e2d8b6",
   "metadata": {},
   "outputs": [
    {
     "data": {
      "text/plain": [
       "<AxesSubplot:xlabel='count', ylabel='Total_Stops'>"
      ]
     },
     "execution_count": 40,
     "metadata": {},
     "output_type": "execute_result"
    },
    {
     "data": {
      "image/png": "[encoded data removed]",
      "text/plain": [
       "<Figure size 360x360 with 1 Axes>"
      ]
     },
     "metadata": {},
     "output_type": "display_data"
    }
   ],
   "source": [
    "sns.countplot(y=df['Total_Stops'] , data=df)"
   ]
  },
  {
   "cell_type": "code",
   "execution_count": 41,
   "id": "3a70aa4f",
   "metadata": {},
   "outputs": [
    {
     "data": {
      "text/plain": [
       "<AxesSubplot:xlabel='Price', ylabel='Density'>"
      ]
     },
     "execution_count": 41,
     "metadata": {},
     "output_type": "execute_result"
    },
    {
     "data": {
      "image/png": "[encoded data removed]",
      "text/plain": [
       "<Figure size 360x360 with 1 Axes>"
      ]
     },
     "metadata": {},
     "output_type": "display_data"
    }
   ],
   "source": [
    "sns.kdeplot(df['Price'] , shade=True)"
   ]
  },
  {
   "cell_type": "code",
   "execution_count": 42,
   "id": "04522b1f",
   "metadata": {},
   "outputs": [
    {
     "data": {
      "text/plain": [
       "<AxesSubplot:xlabel='miles', ylabel='Density'>"
      ]
     },
     "execution_count": 42,
     "metadata": {},
     "output_type": "execute_result"
    },
    {
     "data": {
      "image/png": "[encoded data removed]",
      "text/plain": [
       "<Figure size 360x360 with 1 Axes>"
      ]
     },
     "metadata": {},
     "output_type": "display_data"
    }
   ],
   "source": [
    "sns.kdeplot(df['miles'] , shade=True)"
   ]
  },
  {
   "cell_type": "code",
   "execution_count": 43,
   "id": "9ea2d7d5",
   "metadata": {},
   "outputs": [
    {
     "data": {
      "text/plain": [
       "<AxesSubplot:xlabel='count', ylabel='Airline'>"
      ]
     },
     "execution_count": 43,
     "metadata": {},
     "output_type": "execute_result"
    },
    {
     "data": {
      "image/png": "[encoded data removed]",
      "text/plain": [
       "<Figure size 360x360 with 1 Axes>"
      ]
     },
     "metadata": {},
     "output_type": "display_data"
    }
   ],
   "source": [
    "sns.countplot(y=df['Airline'] , hue=df['Source'] , data=df)"
   ]
  },
  {
   "cell_type": "code",
   "execution_count": 44,
   "id": "25d655ac",
   "metadata": {},
   "outputs": [
    {
     "data": {
      "text/plain": [
       "<AxesSubplot:xlabel='count', ylabel='Airline'>"
      ]
     },
     "execution_count": 44,
     "metadata": {},
     "output_type": "execute_result"
    },
    {
     "data": {
      "image/png": "[encoded data removed]",
      "text/plain": [
       "<Figure size 360x360 with 1 Axes>"
      ]
     },
     "metadata": {},
     "output_type": "display_data"
    }
   ],
   "source": [
    "sns.countplot(y=df['Airline'] , hue=df['Total_Stops'] , data=df)"
   ]
  },
  {
   "cell_type": "code",
   "execution_count": 45,
   "id": "ba5001da",
   "metadata": {},
   "outputs": [
    {
     "data": {
      "text/plain": [
       "<AxesSubplot:xlabel='count', ylabel='Airline'>"
      ]
     },
     "execution_count": 45,
     "metadata": {},
     "output_type": "execute_result"
    },
    {
     "data": {
      "image/png": "[encoded data removed]",
      "text/plain": [
       "<Figure size 360x360 with 1 Axes>"
      ]
     },
     "metadata": {},
     "output_type": "display_data"
    }
   ],
   "source": [
    "sns.countplot(y=df['Airline'] , hue=df['Day_Name_of_Date_of_Journey'] , data=df)"
   ]
  },
  {
   "cell_type": "code",
   "execution_count": 46,
   "id": "5e50cfee",
   "metadata": {},
   "outputs": [
    {
     "data": {
      "text/plain": [
       "<AxesSubplot:xlabel='count', ylabel='Airline'>"
      ]
     },
     "execution_count": 46,
     "metadata": {},
     "output_type": "execute_result"
    },
    {
     "data": {
      "image/png": "[encoded data removed]",
      "text/plain": [
       "<Figure size 360x360 with 1 Axes>"
      ]
     },
     "metadata": {},
     "output_type": "display_data"
    }
   ],
   "source": [
    "sns.countplot(y=df['Airline'] , hue=df['Month_of_Date_of_Journey'] , data=df)"
   ]
  },
  {
   "cell_type": "code",
   "execution_count": 47,
   "id": "781c4cde",
   "metadata": {},
   "outputs": [
    {
     "data": {
      "text/plain": [
       "<AxesSubplot:xlabel='count', ylabel='Airline'>"
      ]
     },
     "execution_count": 47,
     "metadata": {},
     "output_type": "execute_result"
    },
    {
     "data": {
      "image/png": "[encoded data removed]",
      "text/plain": [
       "<Figure size 360x360 with 1 Axes>"
      ]
     },
     "metadata": {},
     "output_type": "display_data"
    }
   ],
   "source": [
    "sns.countplot(y=df['Airline'] , hue=df['Season_of_Date_of_Journey'] , data=df)"
   ]
  },
  {
   "cell_type": "code",
   "execution_count": 78,
   "id": "e9a77d5e",
   "metadata": {},
   "outputs": [
    {
     "data": {
      "text/plain": [
       "<seaborn.axisgrid.JointGrid at 0x1d333d4a370>"
      ]
     },
     "execution_count": 78,
     "metadata": {},
     "output_type": "execute_result"
    },
    {
     "data": {
      "image/png": "[encoded data removed]",
      "text/plain": [
       "<Figure size 432x432 with 3 Axes>"
      ]
     },
     "metadata": {},
     "output_type": "display_data"
    }
   ],
   "source": [
    "sns.jointplot(y=df['miles'] , x=df['Price'] , data=df)"
   ]
  },
  {
   "cell_type": "code",
   "execution_count": 76,
   "id": "fe889b61",
   "metadata": {},
   "outputs": [
    {
     "data": {
      "text/plain": [
       "<seaborn.axisgrid.JointGrid at 0x1d32f0cbbe0>"
      ]
     },
     "execution_count": 76,
     "metadata": {},
     "output_type": "execute_result"
    },
    {
     "data": {
      "image/png": "[encoded data removed]",
      "text/plain": [
       "<Figure size 432x432 with 3 Axes>"
      ]
     },
     "metadata": {},
     "output_type": "display_data"
    }
   ],
   "source": [
    "sns.jointplot(y=df['Price'] , x=df['miles'] , data=df)"
   ]
  },
  {
   "cell_type": "code",
   "execution_count": 50,
   "id": "5c26f450",
   "metadata": {},
   "outputs": [
    {
     "data": {
      "text/plain": [
       "<AxesSubplot:xlabel='Price', ylabel='Airline'>"
      ]
     },
     "execution_count": 50,
     "metadata": {},
     "output_type": "execute_result"
    },
    {
     "data": {
      "image/png": "[encoded data removed]",
      "text/plain": [
       "<Figure size 360x360 with 1 Axes>"
      ]
     },
     "metadata": {},
     "output_type": "display_data"
    }
   ],
   "source": [
    "sns.barplot(y=df['Airline'] , x=df['Price'] , data=df)"
   ]
  },
  {
   "cell_type": "code",
   "execution_count": 51,
   "id": "ef0e5699",
   "metadata": {},
   "outputs": [
    {
     "data": {
      "text/plain": [
       "<AxesSubplot:xlabel='Speed_of_flight_kg/m', ylabel='Airline'>"
      ]
     },
     "execution_count": 51,
     "metadata": {},
     "output_type": "execute_result"
    },
    {
     "data": {
      "image/png": "[encoded data removed]",
      "text/plain": [
       "<Figure size 360x360 with 1 Axes>"
      ]
     },
     "metadata": {},
     "output_type": "display_data"
    }
   ],
   "source": [
    "sns.barplot(y=df['Airline'] , x=df['Speed_of_flight_kg/m'] , data=df)"
   ]
  },
  {
   "cell_type": "code",
   "execution_count": 52,
   "id": "90746293",
   "metadata": {},
   "outputs": [
    {
     "data": {
      "text/plain": [
       "<AxesSubplot:xlabel='Price', ylabel='Airline'>"
      ]
     },
     "execution_count": 52,
     "metadata": {},
     "output_type": "execute_result"
    },
    {
     "data": {
      "image/png": "[encoded data removed]",
      "text/plain": [
       "<Figure size 360x360 with 1 Axes>"
      ]
     },
     "metadata": {},
     "output_type": "display_data"
    }
   ],
   "source": [
    "sns.boxplot(y=df['Airline'] , x=df['Price'] , data=df)"
   ]
  },
  {
   "cell_type": "code",
   "execution_count": 53,
   "id": "994cce52",
   "metadata": {},
   "outputs": [
    {
     "data": {
      "text/plain": [
       "<AxesSubplot:xlabel='Day_Name_of_Date_of_Journey', ylabel='Price'>"
      ]
     },
     "execution_count": 53,
     "metadata": {},
     "output_type": "execute_result"
    },
    {
     "data": {
      "image/png": "[encoded data removed]",
      "text/plain": [
       "<Figure size 360x360 with 1 Axes>"
      ]
     },
     "metadata": {},
     "output_type": "display_data"
    }
   ],
   "source": [
    "sns.barplot(x=df['Day_Name_of_Date_of_Journey'] , y=df['Price'] , data=df)"
   ]
  },
  {
   "cell_type": "code",
   "execution_count": 54,
   "id": "035e4427",
   "metadata": {},
   "outputs": [
    {
     "data": {
      "text/plain": [
       "<AxesSubplot:xlabel='Period_of_Date_of_Journey', ylabel='Price'>"
      ]
     },
     "execution_count": 54,
     "metadata": {},
     "output_type": "execute_result"
    },
    {
     "data": {
      "image/png": "[encoded data removed]",
      "text/plain": [
       "<Figure size 360x360 with 1 Axes>"
      ]
     },
     "metadata": {},
     "output_type": "display_data"
    }
   ],
   "source": [
    "sns.barplot(x=df['Period_of_Date_of_Journey'] , y=df['Price'] , data=df)"
   ]
  },
  {
   "cell_type": "code",
   "execution_count": 55,
   "id": "21de7f2e",
   "metadata": {},
   "outputs": [
    {
     "data": {
      "text/plain": [
       "<AxesSubplot:xlabel='Season_of_Date_of_Journey', ylabel='Price'>"
      ]
     },
     "execution_count": 55,
     "metadata": {},
     "output_type": "execute_result"
    },
    {
     "data": {
      "image/png": "[encoded data removed]",
      "text/plain": [
       "<Figure size 360x360 with 1 Axes>"
      ]
     },
     "metadata": {},
     "output_type": "display_data"
    }
   ],
   "source": [
    "sns.barplot(x=df['Season_of_Date_of_Journey'] , y=df['Price'] , data=df)"
   ]
  },
  {
   "cell_type": "code",
   "execution_count": 56,
   "id": "22f2e614",
   "metadata": {},
   "outputs": [
    {
     "data": {
      "text/plain": [
       "<AxesSubplot:xlabel='Month_of_Date_of_Journey', ylabel='Price'>"
      ]
     },
     "execution_count": 56,
     "metadata": {},
     "output_type": "execute_result"
    },
    {
     "data": {
      "image/png": "[encoded data removed]",
      "text/plain": [
       "<Figure size 360x360 with 1 Axes>"
      ]
     },
     "metadata": {},
     "output_type": "display_data"
    }
   ],
   "source": [
    "sns.barplot(x=df['Month_of_Date_of_Journey'] , y=df['Price'] , data=df)"
   ]
  },
  {
   "cell_type": "code",
   "execution_count": 57,
   "id": "31aebb63",
   "metadata": {},
   "outputs": [
    {
     "data": {
      "text/plain": [
       "<AxesSubplot:xlabel='Day_Name_of_Date_of_Journey', ylabel='count'>"
      ]
     },
     "execution_count": 57,
     "metadata": {},
     "output_type": "execute_result"
    },
    {
     "data": {
      "image/png": "[encoded data removed]",
      "text/plain": [
       "<Figure size 360x360 with 1 Axes>"
      ]
     },
     "metadata": {},
     "output_type": "display_data"
    }
   ],
   "source": [
    "sns.countplot(x=df['Day_Name_of_Date_of_Journey'], hue=df['Period_of_Date_of_Journey'], data=df)"
   ]
  },
  {
   "cell_type": "code",
   "execution_count": 58,
   "id": "59f131ea",
   "metadata": {},
   "outputs": [
    {
     "data": {
      "text/plain": [
       "<AxesSubplot:xlabel='count', ylabel='Month_of_Date_of_Journey'>"
      ]
     },
     "execution_count": 58,
     "metadata": {},
     "output_type": "execute_result"
    },
    {
     "data": {
      "image/png": "[encoded data removed]",
      "text/plain": [
       "<Figure size 360x360 with 1 Axes>"
      ]
     },
     "metadata": {},
     "output_type": "display_data"
    }
   ],
   "source": [
    "sns.countplot(y=df['Month_of_Date_of_Journey'] , data=df , hue=df['Day_Name_of_Date_of_Journey'])"
   ]
  },
  {
   "cell_type": "code",
   "execution_count": null,
   "id": "b72b4b20",
   "metadata": {},
   "outputs": [],
   "source": []
  },
  {
   "cell_type": "markdown",
   "id": "64c5ffd3",
   "metadata": {},
   "source": [
    "### PREPARING FOR MODELING"
   ]
  },
  {
   "cell_type": "code",
   "execution_count": 59,
   "id": "7ccd3681",
   "metadata": {},
   "outputs": [
    {
     "name": "stdout",
     "output_type": "stream",
     "text": [
      "<class 'pandas.core.frame.DataFrame'>\n",
      "Int64Index: 10460 entries, 0 to 10682\n",
      "Data columns (total 25 columns):\n",
      " #   Column                         Non-Null Count  Dtype         \n",
      "---  ------                         --------------  -----         \n",
      " 0   Airline                        10460 non-null  object        \n",
      " 1   Date_of_Journey                10460 non-null  datetime64[ns]\n",
      " 2   Source                         10460 non-null  object        \n",
      " 3   Destination                    10460 non-null  object        \n",
      " 4   Route                          10460 non-null  object        \n",
      " 5   Total_Stops                    10460 non-null  float64       \n",
      " 6   Additional_Info                10460 non-null  object        \n",
      " 7   Price                          10460 non-null  int64         \n",
      " 8   Duration_in_mintues            10460 non-null  float64       \n",
      " 9   Month_of_Date_of_Journey       10460 non-null  int64         \n",
      " 10  Month_Name_of_Date_of_Journey  10460 non-null  object        \n",
      " 11  Day_number_of_Date_of_Journey  10460 non-null  int64         \n",
      " 12  Day_Name_of_Date_of_Journey    10460 non-null  object        \n",
      " 13  Hour_Date_of_Journey           10460 non-null  int64         \n",
      " 14  ArrivalHour                    10460 non-null  object        \n",
      " 15  Season_of_Date_of_Journey      10460 non-null  object        \n",
      " 16  Period_of_Date_of_Journey      10460 non-null  object        \n",
      " 17  Destination_latitude           10460 non-null  float64       \n",
      " 18  Destination_longitude          10460 non-null  float64       \n",
      " 19  Source_latitude                10460 non-null  float64       \n",
      " 20  Source_longitude               10460 non-null  float64       \n",
      " 21  miles                          10460 non-null  float64       \n",
      " 22  Speed_of_flight_kg/m           10460 non-null  float64       \n",
      " 23  Meal Included                  10460 non-null  int64         \n",
      " 24  FlightLength                   10460 non-null  object        \n",
      "dtypes: datetime64[ns](1), float64(8), int64(5), object(11)\n",
      "memory usage: 2.3+ MB\n"
     ]
    }
   ],
   "source": [
    "df.info()"
   ]
  },
  {
   "cell_type": "code",
   "execution_count": null,
   "id": "c471e054",
   "metadata": {},
   "outputs": [],
   "source": []
  },
  {
   "cell_type": "code",
   "execution_count": 60,
   "id": "4b20dd00",
   "metadata": {},
   "outputs": [],
   "source": [
    "df['ArrivalHour'] = df['ArrivalHour'] .astype('int64')\n",
    "df['Duration_in_mintues'] = df['Duration_in_mintues'] .astype('int64')\n"
   ]
  },
  {
   "cell_type": "code",
   "execution_count": 61,
   "id": "f8776547",
   "metadata": {},
   "outputs": [],
   "source": [
    "df.drop(['Day_Name_of_Date_of_Journey','Month_Name_of_Date_of_Journey','Duration_in_mintues','Route'],axis=1,inplace=True)"
   ]
  },
  {
   "cell_type": "code",
   "execution_count": 62,
   "id": "32077ac2",
   "metadata": {},
   "outputs": [],
   "source": []
  },
  {
   "cell_type": "code",
   "execution_count": 63,
   "id": "8dbda00c",
   "metadata": {},
   "outputs": [],
   "source": [
    "AdditionalInfoEnc,MealIncludedEnc,Season_of_Date_of_JourneyEnc,Period_of_Date_of_JourneyEnc,FlightLengthEnc =LabelEncoder(),LabelEncoder(),LabelEncoder(),LabelEncoder(),LabelEncoder()"
   ]
  },
  {
   "cell_type": "code",
   "execution_count": 64,
   "id": "9d995c5b",
   "metadata": {},
   "outputs": [],
   "source": [
    "def ApplyEncoder(Encoder,OriginalColumn) : \n",
    "    global data\n",
    "    Encoder.fit(df[OriginalColumn])\n",
    "    return Encoder.transform(df[OriginalColumn])"
   ]
  },
  {
   "cell_type": "code",
   "execution_count": 65,
   "id": "eb2ef41d",
   "metadata": {},
   "outputs": [],
   "source": [
    "df['AdditionalInfoEnc'] = ApplyEncoder(AdditionalInfoEnc,'Additional_Info')\n",
    "df['MealIncludedEnc'] = ApplyEncoder(MealIncludedEnc,'Meal Included')\n",
    "df['Season_of_Date_of_JourneyEnc'] = ApplyEncoder(Season_of_Date_of_JourneyEnc,'Season_of_Date_of_Journey')\n",
    "df['Period_of_Date_of_JourneyEnc'] = ApplyEncoder(Period_of_Date_of_JourneyEnc,'Period_of_Date_of_Journey')\n",
    "df['FlightLengthEnc'] = ApplyEncoder(FlightLengthEnc,'FlightLength')"
   ]
  },
  {
   "cell_type": "code",
   "execution_count": 66,
   "id": "64186314",
   "metadata": {},
   "outputs": [],
   "source": [
    "df = pd.get_dummies(df, columns=['Airline', 'Source', 'Destination'], drop_first=True)"
   ]
  },
  {
   "cell_type": "code",
   "execution_count": 67,
   "id": "8988ab54",
   "metadata": {},
   "outputs": [
    {
     "data": {
      "text/html": [
       "<div>\n",
       "<style scoped>\n",
       "    .dataframe tbody tr th:only-of-type {\n",
       "        vertical-align: middle;\n",
       "    }\n",
       "\n",
       "    .dataframe tbody tr th {\n",
       "        vertical-align: top;\n",
       "    }\n",
       "\n",
       "    .dataframe thead th {\n",
       "        text-align: right;\n",
       "    }\n",
       "</style>\n",
       "<table border=\"1\" class=\"dataframe\">\n",
       "  <thead>\n",
       "    <tr style=\"text-align: right;\">\n",
       "      <th></th>\n",
       "      <th>Date_of_Journey</th>\n",
       "      <th>Total_Stops</th>\n",
       "      <th>Additional_Info</th>\n",
       "      <th>Price</th>\n",
       "      <th>Month_of_Date_of_Journey</th>\n",
       "      <th>Day_number_of_Date_of_Journey</th>\n",
       "      <th>Hour_Date_of_Journey</th>\n",
       "      <th>ArrivalHour</th>\n",
       "      <th>Season_of_Date_of_Journey</th>\n",
       "      <th>Period_of_Date_of_Journey</th>\n",
       "      <th>...</th>\n",
       "      <th>Airline_Vistara</th>\n",
       "      <th>Airline_Vistara Premium economy</th>\n",
       "      <th>Source_Chennai</th>\n",
       "      <th>Source_Kolkata</th>\n",
       "      <th>Source_Mumbai</th>\n",
       "      <th>Source_New Delhi</th>\n",
       "      <th>Destination_Cochin</th>\n",
       "      <th>Destination_Hyderabad</th>\n",
       "      <th>Destination_Kolkata</th>\n",
       "      <th>Destination_New Delhi</th>\n",
       "    </tr>\n",
       "  </thead>\n",
       "  <tbody>\n",
       "    <tr>\n",
       "      <th>0</th>\n",
       "      <td>2019-03-24 22:20:00</td>\n",
       "      <td>0.0</td>\n",
       "      <td>No info</td>\n",
       "      <td>3897</td>\n",
       "      <td>3</td>\n",
       "      <td>24</td>\n",
       "      <td>22</td>\n",
       "      <td>1</td>\n",
       "      <td>Spring</td>\n",
       "      <td>evening</td>\n",
       "      <td>...</td>\n",
       "      <td>0</td>\n",
       "      <td>0</td>\n",
       "      <td>0</td>\n",
       "      <td>0</td>\n",
       "      <td>0</td>\n",
       "      <td>0</td>\n",
       "      <td>0</td>\n",
       "      <td>0</td>\n",
       "      <td>0</td>\n",
       "      <td>1</td>\n",
       "    </tr>\n",
       "    <tr>\n",
       "      <th>1</th>\n",
       "      <td>2019-05-01 05:50:00</td>\n",
       "      <td>2.0</td>\n",
       "      <td>No info</td>\n",
       "      <td>7662</td>\n",
       "      <td>5</td>\n",
       "      <td>1</td>\n",
       "      <td>5</td>\n",
       "      <td>13</td>\n",
       "      <td>Spring</td>\n",
       "      <td>morning</td>\n",
       "      <td>...</td>\n",
       "      <td>0</td>\n",
       "      <td>0</td>\n",
       "      <td>0</td>\n",
       "      <td>1</td>\n",
       "      <td>0</td>\n",
       "      <td>0</td>\n",
       "      <td>0</td>\n",
       "      <td>0</td>\n",
       "      <td>0</td>\n",
       "      <td>0</td>\n",
       "    </tr>\n",
       "  </tbody>\n",
       "</table>\n",
       "<p>2 rows × 42 columns</p>\n",
       "</div>"
      ],
      "text/plain": [
       "      Date_of_Journey  Total_Stops Additional_Info  Price  \\\n",
       "0 2019-03-24 22:20:00          0.0         No info   3897   \n",
       "1 2019-05-01 05:50:00          2.0         No info   7662   \n",
       "\n",
       "   Month_of_Date_of_Journey  Day_number_of_Date_of_Journey  \\\n",
       "0                         3                             24   \n",
       "1                         5                              1   \n",
       "\n",
       "   Hour_Date_of_Journey  ArrivalHour Season_of_Date_of_Journey  \\\n",
       "0                    22            1                    Spring   \n",
       "1                     5           13                    Spring   \n",
       "\n",
       "  Period_of_Date_of_Journey  ...  Airline_Vistara  \\\n",
       "0                   evening  ...                0   \n",
       "1                   morning  ...                0   \n",
       "\n",
       "   Airline_Vistara Premium economy  Source_Chennai  Source_Kolkata  \\\n",
       "0                                0               0               0   \n",
       "1                                0               0               1   \n",
       "\n",
       "   Source_Mumbai  Source_New Delhi  Destination_Cochin Destination_Hyderabad  \\\n",
       "0              0                 0                   0                     0   \n",
       "1              0                 0                   0                     0   \n",
       "\n",
       "   Destination_Kolkata  Destination_New Delhi  \n",
       "0                    0                      1  \n",
       "1                    0                      0  \n",
       "\n",
       "[2 rows x 42 columns]"
      ]
     },
     "execution_count": 67,
     "metadata": {},
     "output_type": "execute_result"
    }
   ],
   "source": [
    "df.head(2)"
   ]
  },
  {
   "cell_type": "code",
   "execution_count": 68,
   "id": "84726184",
   "metadata": {},
   "outputs": [
    {
     "data": {
      "text/plain": [
       "94"
      ]
     },
     "execution_count": 68,
     "metadata": {},
     "output_type": "execute_result"
    }
   ],
   "source": [
    "outliers_indices = detect_outliers(df,0,['Price'])\n",
    "df.drop(outliers_indices,inplace = True)\n",
    "len(outliers_indices)"
   ]
  },
  {
   "cell_type": "code",
   "execution_count": 69,
   "id": "70626375",
   "metadata": {},
   "outputs": [
    {
     "data": {
      "text/plain": [
       "Index(['Date_of_Journey', 'Total_Stops', 'Additional_Info', 'Price',\n",
       "       'Month_of_Date_of_Journey', 'Day_number_of_Date_of_Journey',\n",
       "       'Hour_Date_of_Journey', 'ArrivalHour', 'Season_of_Date_of_Journey',\n",
       "       'Period_of_Date_of_Journey', 'Destination_latitude',\n",
       "       'Destination_longitude', 'Source_latitude', 'Source_longitude', 'miles',\n",
       "       'Speed_of_flight_kg/m', 'Meal Included', 'FlightLength',\n",
       "       'AdditionalInfoEnc', 'MealIncludedEnc', 'Season_of_Date_of_JourneyEnc',\n",
       "       'Period_of_Date_of_JourneyEnc', 'FlightLengthEnc', 'Airline_Air India',\n",
       "       'Airline_GoAir', 'Airline_IndiGo', 'Airline_Jet Airways',\n",
       "       'Airline_Jet Airways Business', 'Airline_Multiple carriers',\n",
       "       'Airline_Multiple carriers Premium economy', 'Airline_SpiceJet',\n",
       "       'Airline_Trujet', 'Airline_Vistara', 'Airline_Vistara Premium economy',\n",
       "       'Source_Chennai', 'Source_Kolkata', 'Source_Mumbai', 'Source_New Delhi',\n",
       "       'Destination_Cochin', 'Destination_Hyderabad', 'Destination_Kolkata',\n",
       "       'Destination_New Delhi'],\n",
       "      dtype='object')"
      ]
     },
     "execution_count": 69,
     "metadata": {},
     "output_type": "execute_result"
    }
   ],
   "source": [
    "df.columns"
   ]
  },
  {
   "cell_type": "markdown",
   "id": "61b42480",
   "metadata": {},
   "source": [
    "### splitting data"
   ]
  },
  {
   "cell_type": "code",
   "execution_count": 70,
   "id": "bbeb0bc3",
   "metadata": {
    "scrolled": false
   },
   "outputs": [],
   "source": [
    "x = df[['Total_Stops', 'Month_of_Date_of_Journey','Day_number_of_Date_of_Journey', 'miles',\n",
    "        'Speed_of_flight_kg/m', 'Meal Included', 'Airline_Air India',\n",
    "       'Airline_GoAir', 'Airline_IndiGo', 'Airline_Jet Airways',\n",
    "       'Airline_Jet Airways Business', 'Airline_Multiple carriers',\n",
    "       'Airline_Multiple carriers Premium economy', 'Airline_SpiceJet',\n",
    "       'Airline_Trujet', 'Airline_Vistara', 'Airline_Vistara Premium economy',\n",
    "       'Source_Chennai', 'Source_Kolkata', 'Source_Mumbai', 'Source_New Delhi',\n",
    "       'Destination_Cochin', 'Destination_Hyderabad', 'Destination_Kolkata',\n",
    "       'Destination_New Delhi', 'AdditionalInfoEnc','MealIncludedEnc', 'Season_of_Date_of_JourneyEnc',\n",
    "       'Period_of_Date_of_JourneyEnc', 'FlightLengthEnc']]\n",
    "y = df['Price']"
   ]
  },
  {
   "cell_type": "code",
   "execution_count": 71,
   "id": "e9a046c4",
   "metadata": {
    "scrolled": true
   },
   "outputs": [
    {
     "name": "stdout",
     "output_type": "stream",
     "text": [
      "(8292, 30)\n",
      "(2074, 30)\n",
      "(8292,)\n",
      "(2074,)\n"
     ]
    }
   ],
   "source": [
    "x_train, x_test, y_train, y_test = train_test_split(x, y, test_size=0.2,random_state=5)\n",
    "print(x_train.shape)\n",
    "print(x_test.shape)\n",
    "print(y_train.shape)\n",
    "print(y_test.shape)"
   ]
  },
  {
   "cell_type": "code",
   "execution_count": 72,
   "id": "3fc0ec1b",
   "metadata": {},
   "outputs": [],
   "source": [
    "columns = ['miles','Speed_of_flight_kg/m']\n",
    "scaler = StandardScaler()\n",
    "\n",
    "scaler.fit(x_train[columns])\n",
    "\n",
    "x_train[columns] = scaler.transform(x_train[columns])\n",
    "x_test[columns] = scaler.transform(x_test[columns])"
   ]
  },
  {
   "cell_type": "code",
   "execution_count": 73,
   "id": "52b7bf86",
   "metadata": {
    "scrolled": false
   },
   "outputs": [
    {
     "name": "stdout",
     "output_type": "stream",
     "text": [
      "Traing LR...\n",
      "Training RMSE: 2216.7721619149497\n",
      "Training MAE: 1638.86526274822\n",
      "Training R2: 0.703206429366177\n",
      "++++++\n",
      "Testing RMSE: 2166.6247256690494\n",
      "Testing MAE: 1633.4261997027606\n",
      "Testing R2: 0.7164260424479408\n",
      "--------------------------------------------------\n",
      "Traing DT...\n",
      "Training RMSE: 435.2885060302777\n",
      "Training MAE: 105.7756472101624\n",
      "Training R2: 0.9885562919418004\n",
      "++++++\n",
      "Testing RMSE: 1654.7775436781208\n",
      "Testing MAE: 848.9108003857281\n",
      "Testing R2: 0.8345837422619454\n",
      "--------------------------------------------------\n",
      "Traing KNN...\n",
      "Training RMSE: 1505.1682061512229\n",
      "Training MAE: 936.3737578388809\n",
      "Training R2: 0.8631696483950033\n",
      "++++++\n",
      "Testing RMSE: 1902.7247489280262\n",
      "Testing MAE: 1214.195274831244\n",
      "Testing R2: 0.7812989397765099\n",
      "--------------------------------------------------\n",
      "Traing SVM...\n",
      "Training RMSE: 4059.849405112722\n",
      "Training MAE: 3395.68610518976\n",
      "Training R2: 0.004520733032536417\n",
      "++++++\n",
      "Testing RMSE: 4045.1284881488386\n",
      "Testing MAE: 3367.4380664310474\n",
      "Testing R2: 0.011529765470563835\n",
      "--------------------------------------------------\n",
      "Traing RF...\n",
      "Training RMSE: 611.2936426105516\n",
      "Training MAE: 324.57011497168816\n",
      "Training R2: 0.9774310097377442\n",
      "++++++\n",
      "Testing RMSE: 1347.2109073408737\n",
      "Testing MAE: 772.1002331621421\n",
      "Testing R2: 0.8903597202925992\n",
      "--------------------------------------------------\n",
      "Traing XGB...\n",
      "Training RMSE: 897.9564744902937\n",
      "Training MAE: 583.6768628059236\n",
      "Training R2: 0.9513006748417241\n",
      "++++++\n",
      "Testing RMSE: 1257.8864179547961\n",
      "Testing MAE: 791.3197237491148\n",
      "Testing R2: 0.9044167463358401\n",
      "--------------------------------------------------\n"
     ]
    }
   ],
   "source": [
    "models = {\n",
    "    'LR': LinearRegression(),\n",
    "    'DT': DecisionTreeRegressor(),\n",
    "    'KNN': KNeighborsRegressor(),\n",
    "    'SVM': SVR(), \n",
    "    'RF': RandomForestRegressor(),\n",
    "    'XGB': XGBRegressor()\n",
    "}\n",
    "\n",
    "for name, model in models.items():\n",
    "    print(f'Traing {name}...')\n",
    "    model.fit(x_train, y_train)\n",
    "    y_pred = model.predict(x_test)\n",
    "    y_pred_tr = model.predict(x_train)\n",
    "    print(f'Training RMSE: {np.sqrt(mean_squared_error(y_train, y_pred_tr))}')\n",
    "    print(f'Training MAE: {mean_absolute_error(y_train, y_pred_tr)}')\n",
    "    print(f'Training R2: {r2_score(y_train, y_pred_tr)}')\n",
    "    print('++++++')\n",
    "    print(f'Testing RMSE: {np.sqrt(mean_squared_error(y_test, y_pred))}')\n",
    "    print(f'Testing MAE: {mean_absolute_error(y_test, y_pred)}')\n",
    "    print(f'Testing R2: {r2_score(y_test, y_pred)}')\n",
    "    print('-'*50)"
   ]
  },
  {
   "cell_type": "code",
   "execution_count": 74,
   "id": "e31dfb23",
   "metadata": {
    "scrolled": false
   },
   "outputs": [
    {
     "name": "stdout",
     "output_type": "stream",
     "text": [
      "[20:05:25] WARNING: C:/Users/Administrator/workspace/xgboost-win64_release_1.5.0/src/learner.cc:576: \n",
      "Parameters: { \"criterion\" } might not be used.\n",
      "\n",
      "  This could be a false alarm, with some parameters getting used by language bindings but\n",
      "  then being mistakenly passed down to XGBoost core, or some parameter actually being used\n",
      "  but getting flagged wrongly here. Please open an issue if you find any such cases.\n",
      "\n",
      "\n",
      "[20:05:25] WARNING: C:/Users/Administrator/workspace/xgboost-win64_release_1.5.0/src/learner.cc:576: \n",
      "Parameters: { \"criterion\" } might not be used.\n",
      "\n",
      "  This could be a false alarm, with some parameters getting used by language bindings but\n",
      "  then being mistakenly passed down to XGBoost core, or some parameter actually being used\n",
      "  but getting flagged wrongly here. Please open an issue if you find any such cases.\n",
      "\n",
      "\n",
      "[20:05:25] WARNING: C:/Users/Administrator/workspace/xgboost-win64_release_1.5.0/src/learner.cc:576: \n",
      "Parameters: { \"criterion\" } might not be used.\n",
      "\n",
      "  This could be a false alarm, with some parameters getting used by language bindings but\n",
      "  then being mistakenly passed down to XGBoost core, or some parameter actually being used\n",
      "  but getting flagged wrongly here. Please open an issue if you find any such cases.\n",
      "\n",
      "\n",
      "[20:05:25] WARNING: C:/Users/Administrator/workspace/xgboost-win64_release_1.5.0/src/learner.cc:576: \n",
      "Parameters: { \"criterion\" } might not be used.\n",
      "\n",
      "  This could be a false alarm, with some parameters getting used by language bindings but\n",
      "  then being mistakenly passed down to XGBoost core, or some parameter actually being used\n",
      "  but getting flagged wrongly here. Please open an issue if you find any such cases.\n",
      "\n",
      "\n",
      "[20:05:25] WARNING: C:/Users/Administrator/workspace/xgboost-win64_release_1.5.0/src/learner.cc:576: \n",
      "Parameters: { \"criterion\" } might not be used.\n",
      "\n",
      "  This could be a false alarm, with some parameters getting used by language bindings but\n",
      "  then being mistakenly passed down to XGBoost core, or some parameter actually being used\n",
      "  but getting flagged wrongly here. Please open an issue if you find any such cases.\n",
      "\n",
      "\n",
      "[20:05:26] WARNING: C:/Users/Administrator/workspace/xgboost-win64_release_1.5.0/src/learner.cc:576: \n",
      "Parameters: { \"criterion\" } might not be used.\n",
      "\n",
      "  This could be a false alarm, with some parameters getting used by language bindings but\n",
      "  then being mistakenly passed down to XGBoost core, or some parameter actually being used\n",
      "  but getting flagged wrongly here. Please open an issue if you find any such cases.\n",
      "\n",
      "\n",
      "[20:05:26] WARNING: C:/Users/Administrator/workspace/xgboost-win64_release_1.5.0/src/learner.cc:576: \n",
      "Parameters: { \"criterion\" } might not be used.\n",
      "\n",
      "  This could be a false alarm, with some parameters getting used by language bindings but\n",
      "  then being mistakenly passed down to XGBoost core, or some parameter actually being used\n",
      "  but getting flagged wrongly here. Please open an issue if you find any such cases.\n",
      "\n",
      "\n",
      "[20:05:28] WARNING: C:/Users/Administrator/workspace/xgboost-win64_release_1.5.0/src/learner.cc:576: \n",
      "Parameters: { \"criterion\" } might not be used.\n",
      "\n",
      "  This could be a false alarm, with some parameters getting used by language bindings but\n",
      "  then being mistakenly passed down to XGBoost core, or some parameter actually being used\n",
      "  but getting flagged wrongly here. Please open an issue if you find any such cases.\n",
      "\n",
      "\n",
      "[20:05:28] WARNING: C:/Users/Administrator/workspace/xgboost-win64_release_1.5.0/src/learner.cc:576: \n",
      "Parameters: { \"criterion\" } might not be used.\n",
      "\n",
      "  This could be a false alarm, with some parameters getting used by language bindings but\n",
      "  then being mistakenly passed down to XGBoost core, or some parameter actually being used\n",
      "  but getting flagged wrongly here. Please open an issue if you find any such cases.\n",
      "\n",
      "\n",
      "[20:05:29] WARNING: C:/Users/Administrator/workspace/xgboost-win64_release_1.5.0/src/learner.cc:576: \n",
      "Parameters: { \"criterion\" } might not be used.\n",
      "\n",
      "  This could be a false alarm, with some parameters getting used by language bindings but\n",
      "  then being mistakenly passed down to XGBoost core, or some parameter actually being used\n",
      "  but getting flagged wrongly here. Please open an issue if you find any such cases.\n",
      "\n",
      "\n",
      "[20:05:29] WARNING: C:/Users/Administrator/workspace/xgboost-win64_release_1.5.0/src/learner.cc:576: \n",
      "Parameters: { \"criterion\" } might not be used.\n",
      "\n",
      "  This could be a false alarm, with some parameters getting used by language bindings but\n",
      "  then being mistakenly passed down to XGBoost core, or some parameter actually being used\n",
      "  but getting flagged wrongly here. Please open an issue if you find any such cases.\n",
      "\n",
      "\n",
      "[20:05:29] WARNING: C:/Users/Administrator/workspace/xgboost-win64_release_1.5.0/src/learner.cc:576: \n",
      "Parameters: { \"criterion\" } might not be used.\n",
      "\n",
      "  This could be a false alarm, with some parameters getting used by language bindings but\n",
      "  then being mistakenly passed down to XGBoost core, or some parameter actually being used\n",
      "  but getting flagged wrongly here. Please open an issue if you find any such cases.\n",
      "\n",
      "\n",
      "[20:05:30] WARNING: C:/Users/Administrator/workspace/xgboost-win64_release_1.5.0/src/learner.cc:576: \n",
      "Parameters: { \"criterion\" } might not be used.\n",
      "\n",
      "  This could be a false alarm, with some parameters getting used by language bindings but\n",
      "  then being mistakenly passed down to XGBoost core, or some parameter actually being used\n",
      "  but getting flagged wrongly here. Please open an issue if you find any such cases.\n",
      "\n",
      "\n",
      "[20:05:30] WARNING: C:/Users/Administrator/workspace/xgboost-win64_release_1.5.0/src/learner.cc:576: \n",
      "Parameters: { \"criterion\" } might not be used.\n",
      "\n",
      "  This could be a false alarm, with some parameters getting used by language bindings but\n",
      "  then being mistakenly passed down to XGBoost core, or some parameter actually being used\n",
      "  but getting flagged wrongly here. Please open an issue if you find any such cases.\n",
      "\n",
      "\n",
      "[20:05:31] WARNING: C:/Users/Administrator/workspace/xgboost-win64_release_1.5.0/src/learner.cc:576: \n",
      "Parameters: { \"criterion\" } might not be used.\n",
      "\n",
      "  This could be a false alarm, with some parameters getting used by language bindings but\n",
      "  then being mistakenly passed down to XGBoost core, or some parameter actually being used\n",
      "  but getting flagged wrongly here. Please open an issue if you find any such cases.\n",
      "\n",
      "\n",
      "[20:05:32] WARNING: C:/Users/Administrator/workspace/xgboost-win64_release_1.5.0/src/learner.cc:576: \n",
      "Parameters: { \"criterion\" } might not be used.\n",
      "\n",
      "  This could be a false alarm, with some parameters getting used by language bindings but\n",
      "  then being mistakenly passed down to XGBoost core, or some parameter actually being used\n",
      "  but getting flagged wrongly here. Please open an issue if you find any such cases.\n",
      "\n",
      "\n",
      "[20:05:34] WARNING: C:/Users/Administrator/workspace/xgboost-win64_release_1.5.0/src/learner.cc:576: \n",
      "Parameters: { \"criterion\" } might not be used.\n",
      "\n",
      "  This could be a false alarm, with some parameters getting used by language bindings but\n",
      "  then being mistakenly passed down to XGBoost core, or some parameter actually being used\n",
      "  but getting flagged wrongly here. Please open an issue if you find any such cases.\n",
      "\n",
      "\n",
      "[20:05:34] WARNING: C:/Users/Administrator/workspace/xgboost-win64_release_1.5.0/src/learner.cc:576: \n",
      "Parameters: { \"criterion\" } might not be used.\n",
      "\n",
      "  This could be a false alarm, with some parameters getting used by language bindings but\n",
      "  then being mistakenly passed down to XGBoost core, or some parameter actually being used\n",
      "  but getting flagged wrongly here. Please open an issue if you find any such cases.\n",
      "\n",
      "\n",
      "[20:05:34] WARNING: C:/Users/Administrator/workspace/xgboost-win64_release_1.5.0/src/learner.cc:576: \n",
      "Parameters: { \"criterion\" } might not be used.\n",
      "\n",
      "  This could be a false alarm, with some parameters getting used by language bindings but\n",
      "  then being mistakenly passed down to XGBoost core, or some parameter actually being used\n",
      "  but getting flagged wrongly here. Please open an issue if you find any such cases.\n",
      "\n",
      "\n",
      "[20:05:35] WARNING: C:/Users/Administrator/workspace/xgboost-win64_release_1.5.0/src/learner.cc:576: \n",
      "Parameters: { \"criterion\" } might not be used.\n",
      "\n",
      "  This could be a false alarm, with some parameters getting used by language bindings but\n",
      "  then being mistakenly passed down to XGBoost core, or some parameter actually being used\n",
      "  but getting flagged wrongly here. Please open an issue if you find any such cases.\n",
      "\n",
      "\n"
     ]
    },
    {
     "name": "stdout",
     "output_type": "stream",
     "text": [
      "[20:05:36] WARNING: C:/Users/Administrator/workspace/xgboost-win64_release_1.5.0/src/learner.cc:576: \n",
      "Parameters: { \"criterion\" } might not be used.\n",
      "\n",
      "  This could be a false alarm, with some parameters getting used by language bindings but\n",
      "  then being mistakenly passed down to XGBoost core, or some parameter actually being used\n",
      "  but getting flagged wrongly here. Please open an issue if you find any such cases.\n",
      "\n",
      "\n",
      "[20:05:38] WARNING: C:/Users/Administrator/workspace/xgboost-win64_release_1.5.0/src/learner.cc:576: \n",
      "Parameters: { \"criterion\" } might not be used.\n",
      "\n",
      "  This could be a false alarm, with some parameters getting used by language bindings but\n",
      "  then being mistakenly passed down to XGBoost core, or some parameter actually being used\n",
      "  but getting flagged wrongly here. Please open an issue if you find any such cases.\n",
      "\n",
      "\n",
      "[20:05:39] WARNING: C:/Users/Administrator/workspace/xgboost-win64_release_1.5.0/src/learner.cc:576: \n",
      "Parameters: { \"criterion\" } might not be used.\n",
      "\n",
      "  This could be a false alarm, with some parameters getting used by language bindings but\n",
      "  then being mistakenly passed down to XGBoost core, or some parameter actually being used\n",
      "  but getting flagged wrongly here. Please open an issue if you find any such cases.\n",
      "\n",
      "\n",
      "[20:05:42] WARNING: C:/Users/Administrator/workspace/xgboost-win64_release_1.5.0/src/learner.cc:576: \n",
      "Parameters: { \"criterion\" } might not be used.\n",
      "\n",
      "  This could be a false alarm, with some parameters getting used by language bindings but\n",
      "  then being mistakenly passed down to XGBoost core, or some parameter actually being used\n",
      "  but getting flagged wrongly here. Please open an issue if you find any such cases.\n",
      "\n",
      "\n",
      "[20:05:46] WARNING: C:/Users/Administrator/workspace/xgboost-win64_release_1.5.0/src/learner.cc:576: \n",
      "Parameters: { \"criterion\" } might not be used.\n",
      "\n",
      "  This could be a false alarm, with some parameters getting used by language bindings but\n",
      "  then being mistakenly passed down to XGBoost core, or some parameter actually being used\n",
      "  but getting flagged wrongly here. Please open an issue if you find any such cases.\n",
      "\n",
      "\n",
      "[20:05:46] WARNING: C:/Users/Administrator/workspace/xgboost-win64_release_1.5.0/src/learner.cc:576: \n",
      "Parameters: { \"criterion\" } might not be used.\n",
      "\n",
      "  This could be a false alarm, with some parameters getting used by language bindings but\n",
      "  then being mistakenly passed down to XGBoost core, or some parameter actually being used\n",
      "  but getting flagged wrongly here. Please open an issue if you find any such cases.\n",
      "\n",
      "\n",
      "[20:05:47] WARNING: C:/Users/Administrator/workspace/xgboost-win64_release_1.5.0/src/learner.cc:576: \n",
      "Parameters: { \"criterion\" } might not be used.\n",
      "\n",
      "  This could be a false alarm, with some parameters getting used by language bindings but\n",
      "  then being mistakenly passed down to XGBoost core, or some parameter actually being used\n",
      "  but getting flagged wrongly here. Please open an issue if you find any such cases.\n",
      "\n",
      "\n",
      "[20:05:48] WARNING: C:/Users/Administrator/workspace/xgboost-win64_release_1.5.0/src/learner.cc:576: \n",
      "Parameters: { \"criterion\" } might not be used.\n",
      "\n",
      "  This could be a false alarm, with some parameters getting used by language bindings but\n",
      "  then being mistakenly passed down to XGBoost core, or some parameter actually being used\n",
      "  but getting flagged wrongly here. Please open an issue if you find any such cases.\n",
      "\n",
      "\n",
      "[20:05:49] WARNING: C:/Users/Administrator/workspace/xgboost-win64_release_1.5.0/src/learner.cc:576: \n",
      "Parameters: { \"criterion\" } might not be used.\n",
      "\n",
      "  This could be a false alarm, with some parameters getting used by language bindings but\n",
      "  then being mistakenly passed down to XGBoost core, or some parameter actually being used\n",
      "  but getting flagged wrongly here. Please open an issue if you find any such cases.\n",
      "\n",
      "\n",
      "[20:05:52] WARNING: C:/Users/Administrator/workspace/xgboost-win64_release_1.5.0/src/learner.cc:576: \n",
      "Parameters: { \"criterion\" } might not be used.\n",
      "\n",
      "  This could be a false alarm, with some parameters getting used by language bindings but\n",
      "  then being mistakenly passed down to XGBoost core, or some parameter actually being used\n",
      "  but getting flagged wrongly here. Please open an issue if you find any such cases.\n",
      "\n",
      "\n",
      "[20:05:54] WARNING: C:/Users/Administrator/workspace/xgboost-win64_release_1.5.0/src/learner.cc:576: \n",
      "Parameters: { \"criterion\" } might not be used.\n",
      "\n",
      "  This could be a false alarm, with some parameters getting used by language bindings but\n",
      "  then being mistakenly passed down to XGBoost core, or some parameter actually being used\n",
      "  but getting flagged wrongly here. Please open an issue if you find any such cases.\n",
      "\n",
      "\n",
      "[20:05:59] WARNING: C:/Users/Administrator/workspace/xgboost-win64_release_1.5.0/src/learner.cc:576: \n",
      "Parameters: { \"criterion\" } might not be used.\n",
      "\n",
      "  This could be a false alarm, with some parameters getting used by language bindings but\n",
      "  then being mistakenly passed down to XGBoost core, or some parameter actually being used\n",
      "  but getting flagged wrongly here. Please open an issue if you find any such cases.\n",
      "\n",
      "\n",
      "[20:06:04] WARNING: C:/Users/Administrator/workspace/xgboost-win64_release_1.5.0/src/learner.cc:576: \n",
      "Parameters: { \"criterion\" } might not be used.\n",
      "\n",
      "  This could be a false alarm, with some parameters getting used by language bindings but\n",
      "  then being mistakenly passed down to XGBoost core, or some parameter actually being used\n",
      "  but getting flagged wrongly here. Please open an issue if you find any such cases.\n",
      "\n",
      "\n",
      "[20:06:04] WARNING: C:/Users/Administrator/workspace/xgboost-win64_release_1.5.0/src/learner.cc:576: \n",
      "Parameters: { \"criterion\" } might not be used.\n",
      "\n",
      "  This could be a false alarm, with some parameters getting used by language bindings but\n",
      "  then being mistakenly passed down to XGBoost core, or some parameter actually being used\n",
      "  but getting flagged wrongly here. Please open an issue if you find any such cases.\n",
      "\n",
      "\n",
      "[20:06:04] WARNING: C:/Users/Administrator/workspace/xgboost-win64_release_1.5.0/src/learner.cc:576: \n",
      "Parameters: { \"criterion\" } might not be used.\n",
      "\n",
      "  This could be a false alarm, with some parameters getting used by language bindings but\n",
      "  then being mistakenly passed down to XGBoost core, or some parameter actually being used\n",
      "  but getting flagged wrongly here. Please open an issue if you find any such cases.\n",
      "\n",
      "\n",
      "[20:06:04] WARNING: C:/Users/Administrator/workspace/xgboost-win64_release_1.5.0/src/learner.cc:576: \n",
      "Parameters: { \"criterion\" } might not be used.\n",
      "\n",
      "  This could be a false alarm, with some parameters getting used by language bindings but\n",
      "  then being mistakenly passed down to XGBoost core, or some parameter actually being used\n",
      "  but getting flagged wrongly here. Please open an issue if you find any such cases.\n",
      "\n",
      "\n",
      "[20:06:05] WARNING: C:/Users/Administrator/workspace/xgboost-win64_release_1.5.0/src/learner.cc:576: \n",
      "Parameters: { \"criterion\" } might not be used.\n",
      "\n",
      "  This could be a false alarm, with some parameters getting used by language bindings but\n",
      "  then being mistakenly passed down to XGBoost core, or some parameter actually being used\n",
      "  but getting flagged wrongly here. Please open an issue if you find any such cases.\n",
      "\n",
      "\n",
      "[20:06:05] WARNING: C:/Users/Administrator/workspace/xgboost-win64_release_1.5.0/src/learner.cc:576: \n",
      "Parameters: { \"criterion\" } might not be used.\n",
      "\n",
      "  This could be a false alarm, with some parameters getting used by language bindings but\n",
      "  then being mistakenly passed down to XGBoost core, or some parameter actually being used\n",
      "  but getting flagged wrongly here. Please open an issue if you find any such cases.\n",
      "\n",
      "\n",
      "[20:06:05] WARNING: C:/Users/Administrator/workspace/xgboost-win64_release_1.5.0/src/learner.cc:576: \n",
      "Parameters: { \"criterion\" } might not be used.\n",
      "\n",
      "  This could be a false alarm, with some parameters getting used by language bindings but\n",
      "  then being mistakenly passed down to XGBoost core, or some parameter actually being used\n",
      "  but getting flagged wrongly here. Please open an issue if you find any such cases.\n",
      "\n",
      "\n",
      "[20:06:06] WARNING: C:/Users/Administrator/workspace/xgboost-win64_release_1.5.0/src/learner.cc:576: \n",
      "Parameters: { \"criterion\" } might not be used.\n",
      "\n",
      "  This could be a false alarm, with some parameters getting used by language bindings but\n",
      "  then being mistakenly passed down to XGBoost core, or some parameter actually being used\n",
      "  but getting flagged wrongly here. Please open an issue if you find any such cases.\n",
      "\n",
      "\n"
     ]
    },
    {
     "name": "stdout",
     "output_type": "stream",
     "text": [
      "[20:06:07] WARNING: C:/Users/Administrator/workspace/xgboost-win64_release_1.5.0/src/learner.cc:576: \n",
      "Parameters: { \"criterion\" } might not be used.\n",
      "\n",
      "  This could be a false alarm, with some parameters getting used by language bindings but\n",
      "  then being mistakenly passed down to XGBoost core, or some parameter actually being used\n",
      "  but getting flagged wrongly here. Please open an issue if you find any such cases.\n",
      "\n",
      "\n",
      "[20:06:08] WARNING: C:/Users/Administrator/workspace/xgboost-win64_release_1.5.0/src/learner.cc:576: \n",
      "Parameters: { \"criterion\" } might not be used.\n",
      "\n",
      "  This could be a false alarm, with some parameters getting used by language bindings but\n",
      "  then being mistakenly passed down to XGBoost core, or some parameter actually being used\n",
      "  but getting flagged wrongly here. Please open an issue if you find any such cases.\n",
      "\n",
      "\n",
      "[20:06:08] WARNING: C:/Users/Administrator/workspace/xgboost-win64_release_1.5.0/src/learner.cc:576: \n",
      "Parameters: { \"criterion\" } might not be used.\n",
      "\n",
      "  This could be a false alarm, with some parameters getting used by language bindings but\n",
      "  then being mistakenly passed down to XGBoost core, or some parameter actually being used\n",
      "  but getting flagged wrongly here. Please open an issue if you find any such cases.\n",
      "\n",
      "\n",
      "[20:06:08] WARNING: C:/Users/Administrator/workspace/xgboost-win64_release_1.5.0/src/learner.cc:576: \n",
      "Parameters: { \"criterion\" } might not be used.\n",
      "\n",
      "  This could be a false alarm, with some parameters getting used by language bindings but\n",
      "  then being mistakenly passed down to XGBoost core, or some parameter actually being used\n",
      "  but getting flagged wrongly here. Please open an issue if you find any such cases.\n",
      "\n",
      "\n",
      "[20:06:08] WARNING: C:/Users/Administrator/workspace/xgboost-win64_release_1.5.0/src/learner.cc:576: \n",
      "Parameters: { \"criterion\" } might not be used.\n",
      "\n",
      "  This could be a false alarm, with some parameters getting used by language bindings but\n",
      "  then being mistakenly passed down to XGBoost core, or some parameter actually being used\n",
      "  but getting flagged wrongly here. Please open an issue if you find any such cases.\n",
      "\n",
      "\n",
      "[20:06:09] WARNING: C:/Users/Administrator/workspace/xgboost-win64_release_1.5.0/src/learner.cc:576: \n",
      "Parameters: { \"criterion\" } might not be used.\n",
      "\n",
      "  This could be a false alarm, with some parameters getting used by language bindings but\n",
      "  then being mistakenly passed down to XGBoost core, or some parameter actually being used\n",
      "  but getting flagged wrongly here. Please open an issue if you find any such cases.\n",
      "\n",
      "\n",
      "[20:06:10] WARNING: C:/Users/Administrator/workspace/xgboost-win64_release_1.5.0/src/learner.cc:576: \n",
      "Parameters: { \"criterion\" } might not be used.\n",
      "\n",
      "  This could be a false alarm, with some parameters getting used by language bindings but\n",
      "  then being mistakenly passed down to XGBoost core, or some parameter actually being used\n",
      "  but getting flagged wrongly here. Please open an issue if you find any such cases.\n",
      "\n",
      "\n",
      "[20:06:11] WARNING: C:/Users/Administrator/workspace/xgboost-win64_release_1.5.0/src/learner.cc:576: \n",
      "Parameters: { \"criterion\" } might not be used.\n",
      "\n",
      "  This could be a false alarm, with some parameters getting used by language bindings but\n",
      "  then being mistakenly passed down to XGBoost core, or some parameter actually being used\n",
      "  but getting flagged wrongly here. Please open an issue if you find any such cases.\n",
      "\n",
      "\n",
      "[20:06:13] WARNING: C:/Users/Administrator/workspace/xgboost-win64_release_1.5.0/src/learner.cc:576: \n",
      "Parameters: { \"criterion\" } might not be used.\n",
      "\n",
      "  This could be a false alarm, with some parameters getting used by language bindings but\n",
      "  then being mistakenly passed down to XGBoost core, or some parameter actually being used\n",
      "  but getting flagged wrongly here. Please open an issue if you find any such cases.\n",
      "\n",
      "\n",
      "[20:06:13] WARNING: C:/Users/Administrator/workspace/xgboost-win64_release_1.5.0/src/learner.cc:576: \n",
      "Parameters: { \"criterion\" } might not be used.\n",
      "\n",
      "  This could be a false alarm, with some parameters getting used by language bindings but\n",
      "  then being mistakenly passed down to XGBoost core, or some parameter actually being used\n",
      "  but getting flagged wrongly here. Please open an issue if you find any such cases.\n",
      "\n",
      "\n",
      "[20:06:13] WARNING: C:/Users/Administrator/workspace/xgboost-win64_release_1.5.0/src/learner.cc:576: \n",
      "Parameters: { \"criterion\" } might not be used.\n",
      "\n",
      "  This could be a false alarm, with some parameters getting used by language bindings but\n",
      "  then being mistakenly passed down to XGBoost core, or some parameter actually being used\n",
      "  but getting flagged wrongly here. Please open an issue if you find any such cases.\n",
      "\n",
      "\n",
      "[20:06:14] WARNING: C:/Users/Administrator/workspace/xgboost-win64_release_1.5.0/src/learner.cc:576: \n",
      "Parameters: { \"criterion\" } might not be used.\n",
      "\n",
      "  This could be a false alarm, with some parameters getting used by language bindings but\n",
      "  then being mistakenly passed down to XGBoost core, or some parameter actually being used\n",
      "  but getting flagged wrongly here. Please open an issue if you find any such cases.\n",
      "\n",
      "\n",
      "[20:06:15] WARNING: C:/Users/Administrator/workspace/xgboost-win64_release_1.5.0/src/learner.cc:576: \n",
      "Parameters: { \"criterion\" } might not be used.\n",
      "\n",
      "  This could be a false alarm, with some parameters getting used by language bindings but\n",
      "  then being mistakenly passed down to XGBoost core, or some parameter actually being used\n",
      "  but getting flagged wrongly here. Please open an issue if you find any such cases.\n",
      "\n",
      "\n",
      "[20:06:16] WARNING: C:/Users/Administrator/workspace/xgboost-win64_release_1.5.0/src/learner.cc:576: \n",
      "Parameters: { \"criterion\" } might not be used.\n",
      "\n",
      "  This could be a false alarm, with some parameters getting used by language bindings but\n",
      "  then being mistakenly passed down to XGBoost core, or some parameter actually being used\n",
      "  but getting flagged wrongly here. Please open an issue if you find any such cases.\n",
      "\n",
      "\n",
      "[20:06:18] WARNING: C:/Users/Administrator/workspace/xgboost-win64_release_1.5.0/src/learner.cc:576: \n",
      "Parameters: { \"criterion\" } might not be used.\n",
      "\n",
      "  This could be a false alarm, with some parameters getting used by language bindings but\n",
      "  then being mistakenly passed down to XGBoost core, or some parameter actually being used\n",
      "  but getting flagged wrongly here. Please open an issue if you find any such cases.\n",
      "\n",
      "\n",
      "[20:06:21] WARNING: C:/Users/Administrator/workspace/xgboost-win64_release_1.5.0/src/learner.cc:576: \n",
      "Parameters: { \"criterion\" } might not be used.\n",
      "\n",
      "  This could be a false alarm, with some parameters getting used by language bindings but\n",
      "  then being mistakenly passed down to XGBoost core, or some parameter actually being used\n",
      "  but getting flagged wrongly here. Please open an issue if you find any such cases.\n",
      "\n",
      "\n",
      "[20:06:24] WARNING: C:/Users/Administrator/workspace/xgboost-win64_release_1.5.0/src/learner.cc:576: \n",
      "Parameters: { \"criterion\" } might not be used.\n",
      "\n",
      "  This could be a false alarm, with some parameters getting used by language bindings but\n",
      "  then being mistakenly passed down to XGBoost core, or some parameter actually being used\n",
      "  but getting flagged wrongly here. Please open an issue if you find any such cases.\n",
      "\n",
      "\n",
      "[20:06:25] WARNING: C:/Users/Administrator/workspace/xgboost-win64_release_1.5.0/src/learner.cc:576: \n",
      "Parameters: { \"criterion\" } might not be used.\n",
      "\n",
      "  This could be a false alarm, with some parameters getting used by language bindings but\n",
      "  then being mistakenly passed down to XGBoost core, or some parameter actually being used\n",
      "  but getting flagged wrongly here. Please open an issue if you find any such cases.\n",
      "\n",
      "\n",
      "[20:06:25] WARNING: C:/Users/Administrator/workspace/xgboost-win64_release_1.5.0/src/learner.cc:576: \n",
      "Parameters: { \"criterion\" } might not be used.\n",
      "\n",
      "  This could be a false alarm, with some parameters getting used by language bindings but\n",
      "  then being mistakenly passed down to XGBoost core, or some parameter actually being used\n",
      "  but getting flagged wrongly here. Please open an issue if you find any such cases.\n",
      "\n",
      "\n",
      "[20:06:26] WARNING: C:/Users/Administrator/workspace/xgboost-win64_release_1.5.0/src/learner.cc:576: \n",
      "Parameters: { \"criterion\" } might not be used.\n",
      "\n",
      "  This could be a false alarm, with some parameters getting used by language bindings but\n",
      "  then being mistakenly passed down to XGBoost core, or some parameter actually being used\n",
      "  but getting flagged wrongly here. Please open an issue if you find any such cases.\n",
      "\n",
      "\n"
     ]
    },
    {
     "name": "stdout",
     "output_type": "stream",
     "text": [
      "[20:06:28] WARNING: C:/Users/Administrator/workspace/xgboost-win64_release_1.5.0/src/learner.cc:576: \n",
      "Parameters: { \"criterion\" } might not be used.\n",
      "\n",
      "  This could be a false alarm, with some parameters getting used by language bindings but\n",
      "  then being mistakenly passed down to XGBoost core, or some parameter actually being used\n",
      "  but getting flagged wrongly here. Please open an issue if you find any such cases.\n",
      "\n",
      "\n",
      "[20:06:30] WARNING: C:/Users/Administrator/workspace/xgboost-win64_release_1.5.0/src/learner.cc:576: \n",
      "Parameters: { \"criterion\" } might not be used.\n",
      "\n",
      "  This could be a false alarm, with some parameters getting used by language bindings but\n",
      "  then being mistakenly passed down to XGBoost core, or some parameter actually being used\n",
      "  but getting flagged wrongly here. Please open an issue if you find any such cases.\n",
      "\n",
      "\n",
      "[20:06:33] WARNING: C:/Users/Administrator/workspace/xgboost-win64_release_1.5.0/src/learner.cc:576: \n",
      "Parameters: { \"criterion\" } might not be used.\n",
      "\n",
      "  This could be a false alarm, with some parameters getting used by language bindings but\n",
      "  then being mistakenly passed down to XGBoost core, or some parameter actually being used\n",
      "  but getting flagged wrongly here. Please open an issue if you find any such cases.\n",
      "\n",
      "\n",
      "[20:06:39] WARNING: C:/Users/Administrator/workspace/xgboost-win64_release_1.5.0/src/learner.cc:576: \n",
      "Parameters: { \"criterion\" } might not be used.\n",
      "\n",
      "  This could be a false alarm, with some parameters getting used by language bindings but\n",
      "  then being mistakenly passed down to XGBoost core, or some parameter actually being used\n",
      "  but getting flagged wrongly here. Please open an issue if you find any such cases.\n",
      "\n",
      "\n",
      "[20:06:43] WARNING: C:/Users/Administrator/workspace/xgboost-win64_release_1.5.0/src/learner.cc:576: \n",
      "Parameters: { \"criterion\" } might not be used.\n",
      "\n",
      "  This could be a false alarm, with some parameters getting used by language bindings but\n",
      "  then being mistakenly passed down to XGBoost core, or some parameter actually being used\n",
      "  but getting flagged wrongly here. Please open an issue if you find any such cases.\n",
      "\n",
      "\n",
      "[20:06:43] WARNING: C:/Users/Administrator/workspace/xgboost-win64_release_1.5.0/src/learner.cc:576: \n",
      "Parameters: { \"criterion\" } might not be used.\n",
      "\n",
      "  This could be a false alarm, with some parameters getting used by language bindings but\n",
      "  then being mistakenly passed down to XGBoost core, or some parameter actually being used\n",
      "  but getting flagged wrongly here. Please open an issue if you find any such cases.\n",
      "\n",
      "\n",
      "[20:06:43] WARNING: C:/Users/Administrator/workspace/xgboost-win64_release_1.5.0/src/learner.cc:576: \n",
      "Parameters: { \"criterion\" } might not be used.\n",
      "\n",
      "  This could be a false alarm, with some parameters getting used by language bindings but\n",
      "  then being mistakenly passed down to XGBoost core, or some parameter actually being used\n",
      "  but getting flagged wrongly here. Please open an issue if you find any such cases.\n",
      "\n",
      "\n",
      "[20:06:44] WARNING: C:/Users/Administrator/workspace/xgboost-win64_release_1.5.0/src/learner.cc:576: \n",
      "Parameters: { \"criterion\" } might not be used.\n",
      "\n",
      "  This could be a false alarm, with some parameters getting used by language bindings but\n",
      "  then being mistakenly passed down to XGBoost core, or some parameter actually being used\n",
      "  but getting flagged wrongly here. Please open an issue if you find any such cases.\n",
      "\n",
      "\n",
      "[20:06:44] WARNING: C:/Users/Administrator/workspace/xgboost-win64_release_1.5.0/src/learner.cc:576: \n",
      "Parameters: { \"criterion\" } might not be used.\n",
      "\n",
      "  This could be a false alarm, with some parameters getting used by language bindings but\n",
      "  then being mistakenly passed down to XGBoost core, or some parameter actually being used\n",
      "  but getting flagged wrongly here. Please open an issue if you find any such cases.\n",
      "\n",
      "\n",
      "[20:06:44] WARNING: C:/Users/Administrator/workspace/xgboost-win64_release_1.5.0/src/learner.cc:576: \n",
      "Parameters: { \"criterion\" } might not be used.\n",
      "\n",
      "  This could be a false alarm, with some parameters getting used by language bindings but\n",
      "  then being mistakenly passed down to XGBoost core, or some parameter actually being used\n",
      "  but getting flagged wrongly here. Please open an issue if you find any such cases.\n",
      "\n",
      "\n",
      "[20:06:45] WARNING: C:/Users/Administrator/workspace/xgboost-win64_release_1.5.0/src/learner.cc:576: \n",
      "Parameters: { \"criterion\" } might not be used.\n",
      "\n",
      "  This could be a false alarm, with some parameters getting used by language bindings but\n",
      "  then being mistakenly passed down to XGBoost core, or some parameter actually being used\n",
      "  but getting flagged wrongly here. Please open an issue if you find any such cases.\n",
      "\n",
      "\n",
      "[20:06:45] WARNING: C:/Users/Administrator/workspace/xgboost-win64_release_1.5.0/src/learner.cc:576: \n",
      "Parameters: { \"criterion\" } might not be used.\n",
      "\n",
      "  This could be a false alarm, with some parameters getting used by language bindings but\n",
      "  then being mistakenly passed down to XGBoost core, or some parameter actually being used\n",
      "  but getting flagged wrongly here. Please open an issue if you find any such cases.\n",
      "\n",
      "\n",
      "[20:06:46] WARNING: C:/Users/Administrator/workspace/xgboost-win64_release_1.5.0/src/learner.cc:576: \n",
      "Parameters: { \"criterion\" } might not be used.\n",
      "\n",
      "  This could be a false alarm, with some parameters getting used by language bindings but\n",
      "  then being mistakenly passed down to XGBoost core, or some parameter actually being used\n",
      "  but getting flagged wrongly here. Please open an issue if you find any such cases.\n",
      "\n",
      "\n",
      "[20:06:46] WARNING: C:/Users/Administrator/workspace/xgboost-win64_release_1.5.0/src/learner.cc:576: \n",
      "Parameters: { \"criterion\" } might not be used.\n",
      "\n",
      "  This could be a false alarm, with some parameters getting used by language bindings but\n",
      "  then being mistakenly passed down to XGBoost core, or some parameter actually being used\n",
      "  but getting flagged wrongly here. Please open an issue if you find any such cases.\n",
      "\n",
      "\n",
      "[20:06:47] WARNING: C:/Users/Administrator/workspace/xgboost-win64_release_1.5.0/src/learner.cc:576: \n",
      "Parameters: { \"criterion\" } might not be used.\n",
      "\n",
      "  This could be a false alarm, with some parameters getting used by language bindings but\n",
      "  then being mistakenly passed down to XGBoost core, or some parameter actually being used\n",
      "  but getting flagged wrongly here. Please open an issue if you find any such cases.\n",
      "\n",
      "\n",
      "[20:06:47] WARNING: C:/Users/Administrator/workspace/xgboost-win64_release_1.5.0/src/learner.cc:576: \n",
      "Parameters: { \"criterion\" } might not be used.\n",
      "\n",
      "  This could be a false alarm, with some parameters getting used by language bindings but\n",
      "  then being mistakenly passed down to XGBoost core, or some parameter actually being used\n",
      "  but getting flagged wrongly here. Please open an issue if you find any such cases.\n",
      "\n",
      "\n",
      "[20:06:47] WARNING: C:/Users/Administrator/workspace/xgboost-win64_release_1.5.0/src/learner.cc:576: \n",
      "Parameters: { \"criterion\" } might not be used.\n",
      "\n",
      "  This could be a false alarm, with some parameters getting used by language bindings but\n",
      "  then being mistakenly passed down to XGBoost core, or some parameter actually being used\n",
      "  but getting flagged wrongly here. Please open an issue if you find any such cases.\n",
      "\n",
      "\n",
      "[20:06:48] WARNING: C:/Users/Administrator/workspace/xgboost-win64_release_1.5.0/src/learner.cc:576: \n",
      "Parameters: { \"criterion\" } might not be used.\n",
      "\n",
      "  This could be a false alarm, with some parameters getting used by language bindings but\n",
      "  then being mistakenly passed down to XGBoost core, or some parameter actually being used\n",
      "  but getting flagged wrongly here. Please open an issue if you find any such cases.\n",
      "\n",
      "\n",
      "[20:06:48] WARNING: C:/Users/Administrator/workspace/xgboost-win64_release_1.5.0/src/learner.cc:576: \n",
      "Parameters: { \"criterion\" } might not be used.\n",
      "\n",
      "  This could be a false alarm, with some parameters getting used by language bindings but\n",
      "  then being mistakenly passed down to XGBoost core, or some parameter actually being used\n",
      "  but getting flagged wrongly here. Please open an issue if you find any such cases.\n",
      "\n",
      "\n",
      "[20:06:50] WARNING: C:/Users/Administrator/workspace/xgboost-win64_release_1.5.0/src/learner.cc:576: \n",
      "Parameters: { \"criterion\" } might not be used.\n",
      "\n",
      "  This could be a false alarm, with some parameters getting used by language bindings but\n",
      "  then being mistakenly passed down to XGBoost core, or some parameter actually being used\n",
      "  but getting flagged wrongly here. Please open an issue if you find any such cases.\n",
      "\n",
      "\n"
     ]
    },
    {
     "name": "stdout",
     "output_type": "stream",
     "text": [
      "[20:06:51] WARNING: C:/Users/Administrator/workspace/xgboost-win64_release_1.5.0/src/learner.cc:576: \n",
      "Parameters: { \"criterion\" } might not be used.\n",
      "\n",
      "  This could be a false alarm, with some parameters getting used by language bindings but\n",
      "  then being mistakenly passed down to XGBoost core, or some parameter actually being used\n",
      "  but getting flagged wrongly here. Please open an issue if you find any such cases.\n",
      "\n",
      "\n",
      "[20:06:51] WARNING: C:/Users/Administrator/workspace/xgboost-win64_release_1.5.0/src/learner.cc:576: \n",
      "Parameters: { \"criterion\" } might not be used.\n",
      "\n",
      "  This could be a false alarm, with some parameters getting used by language bindings but\n",
      "  then being mistakenly passed down to XGBoost core, or some parameter actually being used\n",
      "  but getting flagged wrongly here. Please open an issue if you find any such cases.\n",
      "\n",
      "\n",
      "[20:06:52] WARNING: C:/Users/Administrator/workspace/xgboost-win64_release_1.5.0/src/learner.cc:576: \n",
      "Parameters: { \"criterion\" } might not be used.\n",
      "\n",
      "  This could be a false alarm, with some parameters getting used by language bindings but\n",
      "  then being mistakenly passed down to XGBoost core, or some parameter actually being used\n",
      "  but getting flagged wrongly here. Please open an issue if you find any such cases.\n",
      "\n",
      "\n",
      "[20:06:53] WARNING: C:/Users/Administrator/workspace/xgboost-win64_release_1.5.0/src/learner.cc:576: \n",
      "Parameters: { \"criterion\" } might not be used.\n",
      "\n",
      "  This could be a false alarm, with some parameters getting used by language bindings but\n",
      "  then being mistakenly passed down to XGBoost core, or some parameter actually being used\n",
      "  but getting flagged wrongly here. Please open an issue if you find any such cases.\n",
      "\n",
      "\n",
      "[20:06:53] WARNING: C:/Users/Administrator/workspace/xgboost-win64_release_1.5.0/src/learner.cc:576: \n",
      "Parameters: { \"criterion\" } might not be used.\n",
      "\n",
      "  This could be a false alarm, with some parameters getting used by language bindings but\n",
      "  then being mistakenly passed down to XGBoost core, or some parameter actually being used\n",
      "  but getting flagged wrongly here. Please open an issue if you find any such cases.\n",
      "\n",
      "\n",
      "[20:06:55] WARNING: C:/Users/Administrator/workspace/xgboost-win64_release_1.5.0/src/learner.cc:576: \n",
      "Parameters: { \"criterion\" } might not be used.\n",
      "\n",
      "  This could be a false alarm, with some parameters getting used by language bindings but\n",
      "  then being mistakenly passed down to XGBoost core, or some parameter actually being used\n",
      "  but getting flagged wrongly here. Please open an issue if you find any such cases.\n",
      "\n",
      "\n",
      "[20:06:56] WARNING: C:/Users/Administrator/workspace/xgboost-win64_release_1.5.0/src/learner.cc:576: \n",
      "Parameters: { \"criterion\" } might not be used.\n",
      "\n",
      "  This could be a false alarm, with some parameters getting used by language bindings but\n",
      "  then being mistakenly passed down to XGBoost core, or some parameter actually being used\n",
      "  but getting flagged wrongly here. Please open an issue if you find any such cases.\n",
      "\n",
      "\n",
      "[20:07:00] WARNING: C:/Users/Administrator/workspace/xgboost-win64_release_1.5.0/src/learner.cc:576: \n",
      "Parameters: { \"criterion\" } might not be used.\n",
      "\n",
      "  This could be a false alarm, with some parameters getting used by language bindings but\n",
      "  then being mistakenly passed down to XGBoost core, or some parameter actually being used\n",
      "  but getting flagged wrongly here. Please open an issue if you find any such cases.\n",
      "\n",
      "\n",
      "[20:07:03] WARNING: C:/Users/Administrator/workspace/xgboost-win64_release_1.5.0/src/learner.cc:576: \n",
      "Parameters: { \"criterion\" } might not be used.\n",
      "\n",
      "  This could be a false alarm, with some parameters getting used by language bindings but\n",
      "  then being mistakenly passed down to XGBoost core, or some parameter actually being used\n",
      "  but getting flagged wrongly here. Please open an issue if you find any such cases.\n",
      "\n",
      "\n",
      "[20:07:04] WARNING: C:/Users/Administrator/workspace/xgboost-win64_release_1.5.0/src/learner.cc:576: \n",
      "Parameters: { \"criterion\" } might not be used.\n",
      "\n",
      "  This could be a false alarm, with some parameters getting used by language bindings but\n",
      "  then being mistakenly passed down to XGBoost core, or some parameter actually being used\n",
      "  but getting flagged wrongly here. Please open an issue if you find any such cases.\n",
      "\n",
      "\n",
      "[20:07:04] WARNING: C:/Users/Administrator/workspace/xgboost-win64_release_1.5.0/src/learner.cc:576: \n",
      "Parameters: { \"criterion\" } might not be used.\n",
      "\n",
      "  This could be a false alarm, with some parameters getting used by language bindings but\n",
      "  then being mistakenly passed down to XGBoost core, or some parameter actually being used\n",
      "  but getting flagged wrongly here. Please open an issue if you find any such cases.\n",
      "\n",
      "\n",
      "[20:07:05] WARNING: C:/Users/Administrator/workspace/xgboost-win64_release_1.5.0/src/learner.cc:576: \n",
      "Parameters: { \"criterion\" } might not be used.\n",
      "\n",
      "  This could be a false alarm, with some parameters getting used by language bindings but\n",
      "  then being mistakenly passed down to XGBoost core, or some parameter actually being used\n",
      "  but getting flagged wrongly here. Please open an issue if you find any such cases.\n",
      "\n",
      "\n",
      "[20:07:06] WARNING: C:/Users/Administrator/workspace/xgboost-win64_release_1.5.0/src/learner.cc:576: \n",
      "Parameters: { \"criterion\" } might not be used.\n",
      "\n",
      "  This could be a false alarm, with some parameters getting used by language bindings but\n",
      "  then being mistakenly passed down to XGBoost core, or some parameter actually being used\n",
      "  but getting flagged wrongly here. Please open an issue if you find any such cases.\n",
      "\n",
      "\n",
      "[20:07:09] WARNING: C:/Users/Administrator/workspace/xgboost-win64_release_1.5.0/src/learner.cc:576: \n",
      "Parameters: { \"criterion\" } might not be used.\n",
      "\n",
      "  This could be a false alarm, with some parameters getting used by language bindings but\n",
      "  then being mistakenly passed down to XGBoost core, or some parameter actually being used\n",
      "  but getting flagged wrongly here. Please open an issue if you find any such cases.\n",
      "\n",
      "\n",
      "[20:07:11] WARNING: C:/Users/Administrator/workspace/xgboost-win64_release_1.5.0/src/learner.cc:576: \n",
      "Parameters: { \"criterion\" } might not be used.\n",
      "\n",
      "  This could be a false alarm, with some parameters getting used by language bindings but\n",
      "  then being mistakenly passed down to XGBoost core, or some parameter actually being used\n",
      "  but getting flagged wrongly here. Please open an issue if you find any such cases.\n",
      "\n",
      "\n",
      "[20:07:16] WARNING: C:/Users/Administrator/workspace/xgboost-win64_release_1.5.0/src/learner.cc:576: \n",
      "Parameters: { \"criterion\" } might not be used.\n",
      "\n",
      "  This could be a false alarm, with some parameters getting used by language bindings but\n",
      "  then being mistakenly passed down to XGBoost core, or some parameter actually being used\n",
      "  but getting flagged wrongly here. Please open an issue if you find any such cases.\n",
      "\n",
      "\n",
      "[20:07:21] WARNING: C:/Users/Administrator/workspace/xgboost-win64_release_1.5.0/src/learner.cc:576: \n",
      "Parameters: { \"criterion\" } might not be used.\n",
      "\n",
      "  This could be a false alarm, with some parameters getting used by language bindings but\n",
      "  then being mistakenly passed down to XGBoost core, or some parameter actually being used\n",
      "  but getting flagged wrongly here. Please open an issue if you find any such cases.\n",
      "\n",
      "\n",
      "All Results are :\n",
      "     mean_test_score  std_test_score  \\\n",
      "0          0.818349        0.005527   \n",
      "1          0.833091        0.003697   \n",
      "2          0.846562        0.002494   \n",
      "3          0.853968        0.000606   \n",
      "4          0.878813        0.000492   \n",
      "5          0.885628        0.000866   \n",
      "6          0.888231        0.000146   \n",
      "7          0.883878        0.000344   \n",
      "8          0.879339        0.003746   \n",
      "9          0.874551        0.002764   \n",
      "10         0.870409        0.002517   \n",
      "11         0.869798        0.002370   \n",
      "12         0.874136        0.001880   \n",
      "13         0.871675        0.001898   \n",
      "14         0.871049        0.001794   \n",
      "15         0.871042        0.001794   \n",
      "16         0.818349        0.005527   \n",
      "17         0.833091        0.003697   \n",
      "18         0.846562        0.002494   \n",
      "19         0.853968        0.000606   \n",
      "20         0.878813        0.000492   \n",
      "21         0.885628        0.000866   \n",
      "22         0.888231        0.000146   \n",
      "23         0.883878        0.000344   \n",
      "24         0.879339        0.003746   \n",
      "25         0.874551        0.002764   \n",
      "26         0.870409        0.002517   \n",
      "27         0.869798        0.002370   \n",
      "28         0.874136        0.001880   \n",
      "29         0.871675        0.001898   \n",
      "30         0.871049        0.001794   \n",
      "31         0.871042        0.001794   \n",
      "32         0.818349        0.005527   \n",
      "33         0.833091        0.003697   \n",
      "34         0.846562        0.002494   \n",
      "35         0.853968        0.000606   \n",
      "36         0.878813        0.000492   \n",
      "37         0.885628        0.000866   \n",
      "38         0.888231        0.000146   \n",
      "39         0.883878        0.000344   \n",
      "40         0.879339        0.003746   \n",
      "41         0.874551        0.002764   \n",
      "42         0.870409        0.002517   \n",
      "43         0.869798        0.002370   \n",
      "44         0.874136        0.001880   \n",
      "45         0.871675        0.001898   \n",
      "46         0.871049        0.001794   \n",
      "47         0.871042        0.001794   \n",
      "\n",
      "                                               params  rank_test_score  \\\n",
      "0   {'criterion': 'squared_error', 'max_depth': 2,...               46   \n",
      "1   {'criterion': 'squared_error', 'max_depth': 2,...               43   \n",
      "2   {'criterion': 'squared_error', 'max_depth': 2,...               40   \n",
      "3   {'criterion': 'squared_error', 'max_depth': 2,...               37   \n",
      "4   {'criterion': 'squared_error', 'max_depth': 4,...               13   \n",
      "5   {'criterion': 'squared_error', 'max_depth': 4,...                4   \n",
      "6   {'criterion': 'squared_error', 'max_depth': 4,...                1   \n",
      "7   {'criterion': 'squared_error', 'max_depth': 4,...                7   \n",
      "8   {'criterion': 'squared_error', 'max_depth': 8,...               10   \n",
      "9   {'criterion': 'squared_error', 'max_depth': 8,...               16   \n",
      "10  {'criterion': 'squared_error', 'max_depth': 8,...               31   \n",
      "11  {'criterion': 'squared_error', 'max_depth': 8,...               34   \n",
      "12  {'criterion': 'squared_error', 'max_depth': 10...               19   \n",
      "13  {'criterion': 'squared_error', 'max_depth': 10...               22   \n",
      "14  {'criterion': 'squared_error', 'max_depth': 10...               25   \n",
      "15  {'criterion': 'squared_error', 'max_depth': 10...               28   \n",
      "16  {'criterion': 'absolute_error', 'max_depth': 2...               46   \n",
      "17  {'criterion': 'absolute_error', 'max_depth': 2...               43   \n",
      "18  {'criterion': 'absolute_error', 'max_depth': 2...               40   \n",
      "19  {'criterion': 'absolute_error', 'max_depth': 2...               37   \n",
      "20  {'criterion': 'absolute_error', 'max_depth': 4...               13   \n",
      "21  {'criterion': 'absolute_error', 'max_depth': 4...                4   \n",
      "22  {'criterion': 'absolute_error', 'max_depth': 4...                1   \n",
      "23  {'criterion': 'absolute_error', 'max_depth': 4...                7   \n",
      "24  {'criterion': 'absolute_error', 'max_depth': 8...               10   \n",
      "25  {'criterion': 'absolute_error', 'max_depth': 8...               16   \n",
      "26  {'criterion': 'absolute_error', 'max_depth': 8...               31   \n",
      "27  {'criterion': 'absolute_error', 'max_depth': 8...               34   \n",
      "28  {'criterion': 'absolute_error', 'max_depth': 1...               19   \n",
      "29  {'criterion': 'absolute_error', 'max_depth': 1...               22   \n",
      "30  {'criterion': 'absolute_error', 'max_depth': 1...               25   \n",
      "31  {'criterion': 'absolute_error', 'max_depth': 1...               28   \n",
      "32  {'criterion': 'poisson', 'max_depth': 2, 'n_es...               46   \n",
      "33  {'criterion': 'poisson', 'max_depth': 2, 'n_es...               43   \n",
      "34  {'criterion': 'poisson', 'max_depth': 2, 'n_es...               40   \n",
      "35  {'criterion': 'poisson', 'max_depth': 2, 'n_es...               37   \n",
      "36  {'criterion': 'poisson', 'max_depth': 4, 'n_es...               13   \n",
      "37  {'criterion': 'poisson', 'max_depth': 4, 'n_es...                4   \n",
      "38  {'criterion': 'poisson', 'max_depth': 4, 'n_es...                1   \n",
      "39  {'criterion': 'poisson', 'max_depth': 4, 'n_es...                7   \n",
      "40  {'criterion': 'poisson', 'max_depth': 8, 'n_es...               10   \n",
      "41  {'criterion': 'poisson', 'max_depth': 8, 'n_es...               16   \n",
      "42  {'criterion': 'poisson', 'max_depth': 8, 'n_es...               31   \n",
      "43  {'criterion': 'poisson', 'max_depth': 8, 'n_es...               34   \n",
      "44  {'criterion': 'poisson', 'max_depth': 10, 'n_e...               19   \n",
      "45  {'criterion': 'poisson', 'max_depth': 10, 'n_e...               22   \n",
      "46  {'criterion': 'poisson', 'max_depth': 10, 'n_e...               25   \n",
      "47  {'criterion': 'poisson', 'max_depth': 10, 'n_e...               28   \n",
      "\n",
      "    mean_fit_time  \n",
      "0        0.121420  \n",
      "1        0.166418  \n",
      "2        0.516432  \n",
      "3        0.999734  \n",
      "4        0.183522  \n",
      "5        0.382547  \n",
      "6        0.713984  \n",
      "7        1.248736  \n",
      "8        0.347058  \n",
      "9        0.683315  \n",
      "10       1.652640  \n",
      "11       3.296058  \n",
      "12       0.506086  \n",
      "13       1.005503  \n",
      "14       2.479632  \n",
      "15       4.872545  \n",
      "16       0.088212  \n",
      "17       0.240571  \n",
      "18       0.445068  \n",
      "19       0.949090  \n",
      "20       0.159934  \n",
      "21       0.337794  \n",
      "22       0.747849  \n",
      "23       1.333521  \n",
      "24       0.359061  \n",
      "25       0.657608  \n",
      "26       1.603731  \n",
      "27       3.149647  \n",
      "28       0.482100  \n",
      "29       1.036391  \n",
      "30       2.692134  \n",
      "31       4.997710  \n",
      "32       0.076406  \n",
      "33       0.143071  \n",
      "34       0.406744  \n",
      "35       0.816457  \n",
      "36       0.152668  \n",
      "37       0.277921  \n",
      "38       0.677155  \n",
      "39       1.287062  \n",
      "40       0.338311  \n",
      "41       0.645578  \n",
      "42       1.587722  \n",
      "43       3.304954  \n",
      "44       0.473725  \n",
      "45       0.996949  \n",
      "46       2.466812  \n",
      "47       5.050266  \n",
      "Best Score is : 0.8882314753949423\n",
      "Best Parameters are : {'criterion': 'squared_error', 'max_depth': 4, 'n_estimators': 500}\n",
      "Best Estimator is : XGBRegressor(base_score=0.5, booster='gbtree', colsample_bylevel=1,\n",
      "             colsample_bynode=1, colsample_bytree=1, criterion='squared_error',\n",
      "             enable_categorical=False, gamma=0, gpu_id=-1, importance_type=None,\n",
      "             interaction_constraints='', learning_rate=0.300000012,\n",
      "             max_delta_step=0, max_depth=4, min_child_weight=1, missing=nan,\n",
      "             monotone_constraints='()', n_estimators=500, n_jobs=12,\n",
      "             num_parallel_tree=1, predictor='auto', random_state=33,\n",
      "             reg_alpha=0, reg_lambda=1, scale_pos_weight=1, subsample=1,\n",
      "             tree_method='exact', validate_parameters=1, verbosity=None)\n"
     ]
    }
   ],
   "source": [
    "SelectedModel = XGBRegressor(random_state=33)\n",
    "SelectedParameters = {'n_estimators':[100,200,500,1000],'max_depth':[2,4,8,10],\n",
    "                      'criterion':['squared_error','absolute_error','poisson']}\n",
    "\n",
    "\n",
    "\n",
    "GridSearchModel = GridSearchCV(SelectedModel,SelectedParameters,\n",
    "                               cv = 2,return_train_score=True)\n",
    "GridSearchModel.fit(x_train, y_train)\n",
    "sorted(GridSearchModel.cv_results_.keys())\n",
    "GridSearchResults = pd.DataFrame(GridSearchModel.cv_results_)[\n",
    "    ['mean_test_score','std_test_score','params','rank_test_score','mean_fit_time']]\n",
    "\n",
    "# Showing Results\n",
    "print('All Results are :\\n', GridSearchResults )\n",
    "print('Best Score is :', GridSearchModel.best_score_)\n",
    "print('Best Parameters are :', GridSearchModel.best_params_)\n",
    "print('Best Estimator is :', GridSearchModel.best_estimator_)"
   ]
  },
  {
   "cell_type": "markdown",
   "id": "d4a259b7",
   "metadata": {},
   "source": [
    "so default parameters of XGB model is the best acc"
   ]
  }
 ],
 "metadata": {
  "kernelspec": {
   "display_name": "Python 3 (ipykernel)",
   "language": "python",
   "name": "python3"
  },
  "language_info": {
   "codemirror_mode": {
    "name": "ipython",
    "version": 3
   },
   "file_extension": ".py",
   "mimetype": "text/x-python",
   "name": "python",
   "nbconvert_exporter": "python",
   "pygments_lexer": "ipython3",
   "version": "3.9.7"
  }
 },
 "nbformat": 4,
 "nbformat_minor": 5
}
